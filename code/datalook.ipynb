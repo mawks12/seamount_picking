{
 "cells": [
  {
   "cell_type": "code",
   "execution_count": 2,
   "metadata": {},
   "outputs": [],
   "source": [
    "import pandas as pd\n",
    "import numpy as np\n",
    "from matplotlib import pyplot as plt\n",
    "import plotly.express as px\n",
    "from LocalPath import LOCALPATH\n",
    "from DBSCANSupport import DBSCANSupport"
   ]
  },
  {
   "cell_type": "code",
   "execution_count": 3,
   "metadata": {},
   "outputs": [],
   "source": [
    "full_curve = pd.read_csv(LOCALPATH + 'data/curv_32.highpass.xyz', sep='\\t', header=None, names=['x', 'y', 'z'])\n",
    "test_zone = full_curve[(full_curve['x']  > -100) & (full_curve['x'] < -80) & (full_curve['y'] > -10) & (full_curve['y'] < 0)]\n",
    "test_zone.to_csv(LOCALPATH + 'data/test_curv_32.highpass.xyz', index=False)"
   ]
  },
  {
   "cell_type": "code",
   "execution_count": null,
   "metadata": {},
   "outputs": [],
   "source": []
  }
 ],
 "metadata": {
  "kernelspec": {
   "display_name": "Python 3",
   "language": "python",
   "name": "python3"
  },
  "language_info": {
   "codemirror_mode": {
    "name": "ipython",
    "version": 3
   },
   "file_extension": ".py",
   "mimetype": "text/x-python",
   "name": "python",
   "nbconvert_exporter": "python",
   "pygments_lexer": "ipython3",
   "version": "3.11.7"
  }
 },
 "nbformat": 4,
 "nbformat_minor": 2
}
