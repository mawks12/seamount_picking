{
 "cells": [
  {
   "cell_type": "code",
   "execution_count": 2,
   "metadata": {},
   "outputs": [],
   "source": [
    "from pathlib import Path\n",
    "import pickle\n",
    "from bs4 import BeautifulSoup\n",
    "import pandas as pd\n",
    "import matplotlib.pyplot as plt\n",
    "import numpy as np\n",
    "import plotly.express as px\n",
    "from sklearn.cluster import DBSCAN\n",
    "import simplekml\n",
    "from smount_predictors import SeamountHelp, SeamountTransformer\n",
    "import xarray as xr"
   ]
  },
  {
   "cell_type": "code",
   "execution_count": 3,
   "metadata": {},
   "outputs": [],
   "source": [
    "points = SeamountHelp.readKMLbounds(Path('data/Seamount_training_zone.kml'))\n",
    "data = SeamountHelp.readAndFilterGRD(Path('data/vgg_swot.grd'), points[:2], points[2:])"
   ]
  },
  {
   "cell_type": "markdown",
   "metadata": {},
   "source": [
    "### Full transformed data"
   ]
  },
  {
   "cell_type": "code",
   "execution_count": 3,
   "metadata": {},
   "outputs": [],
   "source": [
    "full_trans_z = SeamountTransformer().fit_transform(data.to_dataframe().reset_index())\n",
    "full_trans = data.to_dataframe().reset_index()\n",
    "full_trans['z'] = full_trans_z.reshape(-1)\n",
    "full_trans = xr.Dataset().from_dataframe(full_trans.set_index(['lon', 'lat']))\n",
    "full_trans.to_netcdf('data/figure_datasets/full_trans.nc')"
   ]
  },
  {
   "cell_type": "markdown",
   "metadata": {},
   "source": [
    "### Non inverted rings"
   ]
  },
  {
   "cell_type": "code",
   "execution_count": 4,
   "metadata": {},
   "outputs": [],
   "source": [
    "nokern = SeamountTransformer()\n",
    "nokern.CONV_KERN = np.array([[1]])\n",
    "non_inv_z = nokern.fit_transform(data.to_dataframe().reset_index())\n",
    "non_inv = data.to_dataframe().reset_index()\n",
    "non_inv['z'] = non_inv_z.reshape(-1)\n",
    "non_inv = xr.Dataset().from_dataframe(non_inv)\n",
    "non_inv.to_netcdf('data/figure_datasets/non_inverted_trans.nc')"
   ]
  },
  {
   "cell_type": "markdown",
   "metadata": {},
   "source": [
    "### Sobel Filtered data"
   ]
  },
  {
   "cell_type": "code",
   "execution_count": 5,
   "metadata": {},
   "outputs": [],
   "source": [
    "from scipy.signal import convolve\n",
    "from scipy.ndimage import gaussian_filter, sobel\n",
    "\n",
    "X = data.to_dataframe().reset_index()\n",
    "df = pd.DataFrame(X, columns=['lat', 'lon', 'z'])\n",
    "df.set_index(['lat', 'lon'], inplace=True)\n",
    "data_index = df.index\n",
    "if df.index.duplicated().any():\n",
    "    df = df[~df.index.duplicated()]\n",
    "Xxr = df.to_xarray()\n",
    "Xxr['z'] = Xxr['z'].fillna(0)\n",
    "# Scaling for y axis. NOTE: since this uses the mean, the larger the area\n",
    "# the less accurate the scaling. Works best in small areas.\n",
    "sigma = 1\n",
    "x1_sig = sigma / np.cos(np.radians(Xxr['lat'].values.mean()))\n",
    "# Filtering to smooth data, and find gradient peaks\n",
    "smoothed = gaussian_filter(Xxr['z'].values, sigma=(sigma, x1_sig))\n",
    "y_grad = sobel(smoothed, axis=0)\n",
    "x_grad = sobel(smoothed, axis=1)\n",
    "grad = np.hypot(x_grad, y_grad)\n",
    "transed = smoothed * grad\n",
    "Xxr['z'].values = transed\n",
    "Xxr.to_netcdf('data/figure_datasets/sobel_trans.nc')"
   ]
  },
  {
   "cell_type": "markdown",
   "metadata": {},
   "source": [
    "### Gausian Filtered data"
   ]
  },
  {
   "cell_type": "code",
   "execution_count": 6,
   "metadata": {},
   "outputs": [],
   "source": [
    "X = data.to_dataframe().reset_index()\n",
    "df = pd.DataFrame(X, columns=['lat', 'lon', 'z'])\n",
    "df.set_index(['lat', 'lon'], inplace=True)\n",
    "data_index = df.index\n",
    "if df.index.duplicated().any():\n",
    "    df = df[~df.index.duplicated()]\n",
    "Xxr = df.to_xarray()\n",
    "Xxr['z'] = Xxr['z'].fillna(0)\n",
    "# Scaling for y axis. NOTE: since this uses the mean, the larger the area\n",
    "# the less accurate the scaling. Works best in small areas.\n",
    "sigma = 1\n",
    "x1_sig = sigma / np.cos(np.radians(Xxr['lat'].values.mean()))\n",
    "# Filtering to smooth data, and find gradient peaks\n",
    "smoothed = gaussian_filter(Xxr['z'].values, sigma=(sigma, x1_sig))\n",
    "Xxr['z'].values = smoothed\n",
    "Xxr.to_netcdf('data/figure_datasets/gaus_trans.nc')"
   ]
  },
  {
   "cell_type": "markdown",
   "metadata": {},
   "source": [
    "### Raw VGG"
   ]
  },
  {
   "cell_type": "code",
   "execution_count": 7,
   "metadata": {},
   "outputs": [],
   "source": [
    "data.to_netcdf('data/figure_datasets/raw_data.nc')"
   ]
  },
  {
   "cell_type": "markdown",
   "metadata": {},
   "source": [
    "# SRTM and 3d plotting code - do not change"
   ]
  },
  {
   "cell_type": "code",
   "execution_count": 8,
   "metadata": {},
   "outputs": [],
   "source": [
    "srtm = SeamountHelp.readAndFilterGRD(Path(\"data/SRTM15_V2.5.nc\"), points[:2], points[2:])\n",
    "srtm.to_netcdf('data/figure_datasets/srtm_train_zone.nc')\n",
    "# SeamountHelp.plot_xarr(srtm, name=\"SRTM of training zone\", backend='plt')"
   ]
  },
  {
   "cell_type": "code",
   "execution_count": 9,
   "metadata": {},
   "outputs": [],
   "source": [
    "datadf = data.to_dataframe().reset_index()\n",
    "bigmount = datadf[(datadf['lat'] >= -18.6) & (datadf['lat'] <= -18.0) & (datadf['lon'] >= -111.2) & (datadf['lon'] <= -110.6)]\n",
    "# px.scatter(bigmount, x='lon', y='lat', color='z')"
   ]
  },
  {
   "cell_type": "code",
   "execution_count": 10,
   "metadata": {},
   "outputs": [],
   "source": [
    "# px.scatter_3d(bigmount, x='lon', y='lat', z='z')"
   ]
  },
  {
   "cell_type": "code",
   "execution_count": 11,
   "metadata": {},
   "outputs": [],
   "source": [
    "import pickle\n",
    "from smount_predictors.src.SeamountHelp import PipelinePredictor\n",
    "from sklearn.preprocessing import StandardScaler\n",
    "model = pickle.load(open('out/cluster_tuned_model.pkl', 'rb'))\n",
    "svc_model = model.model\n",
    "threshold = -svc_model.named_steps['predictor'].intercept_[0] / svc_model.named_steps['predictor'].coef_[0][0]\n",
    "# print(\"Threshold for the hyperplane:\", threshold)"
   ]
  },
  {
   "cell_type": "code",
   "execution_count": 12,
   "metadata": {},
   "outputs": [
    {
     "name": "stderr",
     "output_type": "stream",
     "text": [
      "/var/folders/v7/nxggzv_j5s936v9rvl85gh2w0000gn/T/ipykernel_88817/1263929631.py:3: SettingWithCopyWarning: \n",
      "A value is trying to be set on a copy of a slice from a DataFrame.\n",
      "Try using .loc[row_indexer,col_indexer] = value instead\n",
      "\n",
      "See the caveats in the documentation: https://pandas.pydata.org/pandas-docs/stable/user_guide/indexing.html#returning-a-view-versus-a-copy\n",
      "  bigmount['z'] = trans.fit_transform(bigmount).reshape(-1)\n"
     ]
    }
   ],
   "source": [
    "from smount_predictors import SeamountTransformer\n",
    "trans = SeamountTransformer()\n",
    "bigmount['z'] = trans.fit_transform(bigmount).reshape(-1)"
   ]
  },
  {
   "cell_type": "code",
   "execution_count": null,
   "metadata": {},
   "outputs": [],
   "source": [
    "import numpy as np\n",
    "# Define xx and yy\n",
    "xx, yy = np.meshgrid(np.linspace(bigmount['lon'].min(), bigmount['lon'].max(), 100),\n",
    "                     np.linspace(bigmount['lat'].min(), bigmount['lat'].max(), 100))\n",
    "import plotly.graph_objects as go\n",
    "fig = px.scatter_3d(bigmount, x='lon', y='lat', z='z')\n",
    "plane = go.Surface(\n",
    "    z=2.47695002 * np.ones_like(xx),\n",
    "    x=xx,\n",
    "    y=yy,\n",
    "    colorscale=[[0, 'green'], [1, 'green']],\n",
    "    opacity=0.5,\n",
    "    showscale=False\n",
    ")\n",
    "fig.add_trace(plane)\n",
    "fig.update_layout(\n",
    "    autosize=False,\n",
    "    width=900,\n",
    "    height=800\n",
    ");\n",
    "# fig.show()"
   ]
  }
 ],
 "metadata": {
  "kernelspec": {
   "display_name": "swot",
   "language": "python",
   "name": "python3"
  },
  "language_info": {
   "codemirror_mode": {
    "name": "ipython",
    "version": 3
   },
   "file_extension": ".py",
   "mimetype": "text/x-python",
   "name": "python",
   "nbconvert_exporter": "python",
   "pygments_lexer": "ipython3",
   "version": "3.10.14"
  }
 },
 "nbformat": 4,
 "nbformat_minor": 2
}
