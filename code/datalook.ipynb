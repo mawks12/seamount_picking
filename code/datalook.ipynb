{
 "cells": [
  {
   "cell_type": "code",
   "execution_count": 1,
   "metadata": {},
   "outputs": [],
   "source": [
    "import pandas as pd\n",
    "import numpy as np\n",
    "from matplotlib import pyplot as plt\n",
    "import plotly.express as px\n",
    "from LocalPath import LOCALPATH\n",
    "from DBSCANSupport import DBSCANSupport\n",
    "from sklearn.cluster import DBSCAN"
   ]
  },
  {
   "cell_type": "code",
   "execution_count": 2,
   "metadata": {},
   "outputs": [
    {
     "name": "stderr",
     "output_type": "stream",
     "text": [
      "/Users/martinhawks/Code/Git_repos/stable_seamount/seamount_picking/code/_SeamountSupport.py:268: SettingWithCopyWarning: \n",
      "A value is trying to be set on a copy of a slice from a DataFrame.\n",
      "Try using .loc[row_indexer,col_indexer] = value instead\n",
      "\n",
      "See the caveats in the documentation: https://pandas.pydata.org/pandas-docs/stable/user_guide/indexing.html#returning-a-view-versus-a-copy\n",
      "  data[\"TrueSeamount\"] = np.zeros(data.shape[0])\n"
     ]
    }
   ],
   "source": [
    "grav = pd.read_csv(LOCALPATH + 'data/test_curv_32.highpass.csv', names=['Longitude', 'Latitude', 'Intensity'], header=0)\n",
    "grav = grav[['Longitude', 'Latitude', 'Intensity']]\n",
    "Z = DBSCANSupport.formatData(grav, 'Intensity')\n",
    "data = Z\n",
    "testdev = DBSCANSupport(LOCALPATH+\"data/sample_mask.txt.xlsx\", train_zone=(-6, -1, -98, -90))\n",
    "testdev.addTrainingData(data)"
   ]
  },
  {
   "cell_type": "code",
   "execution_count": 4,
   "metadata": {},
   "outputs": [
    {
     "name": "stdout",
     "output_type": "stream",
     "text": [
      "Score for 0.01 and 3 is -0.8775510204081632 with 33 clusters\n",
      "Best score: -0.8775510204081632 with parameters (0.01, 3)\n"
     ]
    }
   ],
   "source": [
    "output = testdev.gridSearch((0.01,), (3,), verbose=True)"
   ]
  },
  {
   "cell_type": "code",
   "execution_count": null,
   "metadata": {},
   "outputs": [],
   "source": [
    "print(testdev.num_seamounts)\n",
    "print(testdev.seamount_points)"
   ]
  },
  {
   "cell_type": "code",
   "execution_count": null,
   "metadata": {},
   "outputs": [],
   "source": []
  }
 ],
 "metadata": {
  "kernelspec": {
   "display_name": "Python 3",
   "language": "python",
   "name": "python3"
  },
  "language_info": {
   "codemirror_mode": {
    "name": "ipython",
    "version": 3
   },
   "file_extension": ".py",
   "mimetype": "text/x-python",
   "name": "python",
   "nbconvert_exporter": "python",
   "pygments_lexer": "ipython3",
   "version": "3.11.7"
  }
 },
 "nbformat": 4,
 "nbformat_minor": 2
}
