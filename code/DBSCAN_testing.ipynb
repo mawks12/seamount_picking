{
 "cells": [
  {
   "cell_type": "code",
   "execution_count": null,
   "metadata": {},
   "outputs": [],
   "source": [
    "from DBSCANSupport import DBSCANSupport\n",
    "import pandas as pd\n",
    "import numpy as np\n",
    "from pathlib import Path\n",
    "import plotly.express as px\n",
    "from SeamountHelp import *"
   ]
  },
  {
   "cell_type": "code",
   "execution_count": null,
   "metadata": {},
   "outputs": [],
   "source": [
    "grav_dat = Path('data') / 'test_curv_32.highpass.csv'\n",
    "grav = pd.read_csv(grav_dat, names=['Longitude', 'Latitude', 'Intensity'], header=0)\n",
    "grav = grav[['Longitude', 'Latitude', 'Intensity']]\n",
    "old_train_bounds = (-4.525, -2.38, -95.85833, -93.00833)"
   ]
  },
  {
   "cell_type": "code",
   "execution_count": null,
   "metadata": {},
   "outputs": [],
   "source": [
    "grav[\"Latitude\"].describe()"
   ]
  },
  {
   "cell_type": "code",
   "execution_count": null,
   "metadata": {},
   "outputs": [],
   "source": [
    "grav[\"Longitude\"].describe()"
   ]
  },
  {
   "cell_type": "code",
   "execution_count": null,
   "metadata": {},
   "outputs": [],
   "source": [
    "new_bounds = (-3, 0, -99, -96)\n",
    "data = DBSCANSupport.formatData(grav, \"Intensity\")\n",
    "best_eps = (0.32052631578947366,)\n",
    "best_samp = (13,)\n",
    "tester = DBSCANSupport(Path('data') / \"sample_mask.txt.xlsx\", train_zone=new_bounds)"
   ]
  },
  {
   "cell_type": "code",
   "execution_count": null,
   "metadata": {},
   "outputs": [],
   "source": [
    "tester.addTrainingData(data)\n",
    "_, _, data_out, out = tester.gridSearch(best_eps, best_samp, verbose=True)"
   ]
  },
  {
   "cell_type": "code",
   "execution_count": null,
   "metadata": {},
   "outputs": [],
   "source": [
    "dfout = pd.DataFrame(data_out, columns=[\"Lat\", \"Lon\", \"Label\", \"Intensity\", \"TrueLabel\"])\n",
    "seamount_points = tester.getSeamountPoints()\n",
    "df_labeled = dfout[(dfout[\"Label\"] != dfout[\"Label\"].mode().iloc[0])]"
   ]
  },
  {
   "cell_type": "code",
   "execution_count": null,
   "metadata": {},
   "outputs": [],
   "source": [
    "test_zone=new_bounds\n",
    "seamounts = pd.read_excel(Path('data') / \"sample_mask.txt.xlsx\", \\\n",
    "                              sheet_name=\"new mask\")\n",
    "seamounts = seamounts.drop(columns=[\"VGG Height\", \"Radius\", \"base_depth\", \"-\",\n",
    "                                        \"Name\", \"Charted\", \"surface_depth\"])\n",
    "seamounts = seamounts[(seamounts[\"Latitude\"] >= test_zone[0]) & (seamounts[\"Latitude\"] <= test_zone[1]) &\n",
    "                          (seamounts[\"Longitude\"] >= test_zone[2]) & (seamounts[\"Longitude\"] <= test_zone[3])]\n",
    "seamounts = seamounts.to_numpy()"
   ]
  },
  {
   "cell_type": "code",
   "execution_count": null,
   "metadata": {},
   "outputs": [],
   "source": [
    "fig = px.scatter(x=seamounts[:, 0], y=seamounts[:, 1], width=1000, height=500)\n",
    "fig.add_trace(px.scatter(df_labeled, x=\"Lon\", y=\"Lat\", color=\"TrueLabel\",).data[0])\n",
    "fig.update_xaxes(\n",
    "    scaleanchor=\"y\",\n",
    "    scaleratio=1,\n",
    "  )\n",
    "fig.update_layout(title=\"Model labels\")\n",
    "# fig.show()"
   ]
  },
  {
   "cell_type": "code",
   "execution_count": null,
   "metadata": {},
   "outputs": [],
   "source": [
    "raw_test_zone = grav[\n",
    "    (\n",
    "        grav[\"Latitude\"] <= new_bounds[1]\n",
    "    ) & (\n",
    "        grav[\"Latitude\"] >= new_bounds[0]\n",
    "    ) & (\n",
    "        grav[\"Longitude\"] <= new_bounds[3]\n",
    "    ) & (\n",
    "        grav[\"Longitude\"] >= new_bounds[2]\n",
    "    )]"
   ]
  },
  {
   "cell_type": "code",
   "execution_count": null,
   "metadata": {},
   "outputs": [],
   "source": [
    "fig2 = px.scatter(raw_test_zone, x='Longitude', y='Latitude', color='Intensity')\n",
    "fig2.update_xaxes(\n",
    "    scaleanchor=\"y\",\n",
    "    scaleratio=1,\n",
    "  )\n",
    "# fig2.show()"
   ]
  },
  {
   "cell_type": "code",
   "execution_count": null,
   "metadata": {},
   "outputs": [],
   "source": [
    "larger_bounds = (3.574, 8.654, -104.077, -93.371)\n",
    "with open(Path('data') / 'curv_32.highpass.xyz', 'r') as fin:\n",
    "    newbound_data = readCroppedxyz(fin, larger_bounds)"
   ]
  },
  {
   "cell_type": "code",
   "execution_count": null,
   "metadata": {},
   "outputs": [],
   "source": [
    "newbound_data"
   ]
  },
  {
   "cell_type": "code",
   "execution_count": null,
   "metadata": {},
   "outputs": [],
   "source": [
    "newbound_data = pd.DataFrame(newbound_data, columns=[\"Longitude\", \"Latitude\", \"Intensity\"])\n",
    "newbound_data = newbound_data[[\"Latitude\", \"Longitude\", \"Intensity\"]]"
   ]
  },
  {
   "cell_type": "code",
   "execution_count": null,
   "metadata": {},
   "outputs": [],
   "source": [
    "raw_newbound = px.scatter(newbound_data, x=\"Longitude\", y=\"Latitude\", color=\"Intensity\")\n",
    "raw_newbound.update_xaxes(\n",
    "    scaleanchor=\"y\",\n",
    "    scaleratio=1,\n",
    "  )"
   ]
  },
  {
   "cell_type": "code",
   "execution_count": null,
   "metadata": {},
   "outputs": [],
   "source": [
    "new_labels = tester.testData(newbound_data.to_numpy())"
   ]
  },
  {
   "cell_type": "code",
   "execution_count": null,
   "metadata": {},
   "outputs": [],
   "source": [
    "dfout = pd.DataFrame(new_labels, columns=[\"Latitude\", \"Longitude\", \"Label\", \"Intensity\"])\n",
    "df_labeled = dfout[(dfout[\"Label\"] != dfout[\"Label\"].mode().iloc[0])]\n",
    "dfout = dfout.to_numpy()"
   ]
  },
  {
   "cell_type": "code",
   "execution_count": null,
   "metadata": {},
   "outputs": [],
   "source": [
    "plotData(df_labeled)"
   ]
  },
  {
   "cell_type": "code",
   "execution_count": null,
   "metadata": {},
   "outputs": [],
   "source": [
    "newtest = DBSCANSupport(Path('data') / \"sample_mask.txt.xlsx\", train_zone=larger_bounds)\n",
    "test_trainer = newbound_data[[\"Latitude\", \"Longitude\", \"Intensity\"]]\n",
    "test_trainer = newtest.formatData(test_trainer, \"Intensity\")\n",
    "newtest.addTrainingData(test_trainer)\n",
    "true_lables = newtest.training_data[:, 3]"
   ]
  },
  {
   "cell_type": "code",
   "execution_count": null,
   "metadata": {},
   "outputs": [],
   "source": [
    "lableled_out = np.insert(new_labels, 4, true_lables, axis=1)\n",
    "lableled_out = pd.DataFrame(lableled_out, columns=[\"Latitude\", \"Longitude\", \"Lables\", \"Intensity\", \"TrueLabel\"])"
   ]
  },
  {
   "cell_type": "code",
   "execution_count": null,
   "metadata": {},
   "outputs": [],
   "source": [
    "%load_ext autoreload\n",
    "%autoreload 2\n",
    "#plotData(lableled_out, \"TrueLabel\")"
   ]
  },
  {
   "cell_type": "code",
   "execution_count": null,
   "metadata": {},
   "outputs": [],
   "source": []
  }
 ],
 "metadata": {
  "kernelspec": {
   "display_name": "swot",
   "language": "python",
   "name": "python3"
  },
  "language_info": {
   "codemirror_mode": {
    "name": "ipython",
    "version": 3
   },
   "file_extension": ".py",
   "mimetype": "text/x-python",
   "name": "python",
   "nbconvert_exporter": "python",
   "pygments_lexer": "ipython3",
   "version": "3.11.7"
  }
 },
 "nbformat": 4,
 "nbformat_minor": 2
}
