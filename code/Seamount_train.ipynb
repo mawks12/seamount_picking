{
 "cells": [
  {
   "cell_type": "code",
   "execution_count": null,
   "metadata": {},
   "outputs": [],
   "source": [
    "from pathlib import Path\n",
    "import pandas as pd\n",
    "from smount_predictors import SeamountTransformer, SeamountHelp, SeamountCVSplitter\n",
    "from sklearn.pipeline import Pipeline\n",
    "from sklearn.svm import SVC\n",
    "from sklearn.model_selection import GridSearchCV\n",
    "import numpy as np"
   ]
  },
  {
   "cell_type": "code",
   "execution_count": null,
   "metadata": {},
   "outputs": [],
   "source": [
    "pipe = Pipeline([\n",
    "    ('trans', SeamountTransformer()),\n",
    "    ('predictor', SVC(kernel='rbf', class_weight='balanced'))\n",
    "])\n",
    "\n",
    "param_grid = {\n",
    "    'predictor__C': np.linspace(1, 10),\n",
    "    'trans__sigma': np.linspace(0.1, 2)\n",
    "    }\n",
    "\n",
    "search = GridSearchCV(estimator=pipe, param_grid=param_grid, n_jobs=-1, cv=SeamountCVSplitter(5), verbose=3)"
   ]
  },
  {
   "cell_type": "code",
   "execution_count": null,
   "metadata": {},
   "outputs": [],
   "source": [
    "points = SeamountHelp.readKMLbounds(Path('data/seamount_training_zone.kml'))\n",
    "data = SeamountHelp.readAndFilterGRD(Path('data/test_files') / 'training_data_new.nc')\n",
    "X = data.to_dataframe().reset_index()[['lat', 'lon' , 'z']]"
   ]
  },
  {
   "cell_type": "code",
   "execution_count": null,
   "metadata": {},
   "outputs": [],
   "source": [
    "y = data.to_dataframe().reset_index()['Labels']\n",
    "search.fit(X, y)\n",
    "print(f'train score: {search.score(X, y)}')"
   ]
  },
  {
   "cell_type": "code",
   "execution_count": null,
   "metadata": {},
   "outputs": [],
   "source": [
    "import pickle\n",
    "from sklearn.cluster import DBSCAN\n",
    "from smount_predictors.src.SeamountHelp import PipelinePredictor\n",
    "\n",
    "full_pipeline = PipelinePredictor(pipe, DBSCAN(eps=0.00029088820866630336, min_samples=4, metric='haversine'))\n",
    "# DBSCAN epsilon perameter above is the cartesian measurement of grid spacing in 1 armin spaced lat/lon grid\n",
    "pickle.dump(full_pipeline, open('out/3d_model.pkl', 'wb'))"
   ]
  },
  {
   "cell_type": "code",
   "execution_count": null,
   "metadata": {},
   "outputs": [],
   "source": [
    "import xarray as xr\n",
    "import pygmt\n",
    "\n",
    "\n",
    "X['Labels'] = pipe.predict(X)\n",
    "predictions = xr.Dataset.from_dataframe(X.set_index(['lat', 'lon'])).set_coords(['lon', 'lat'])"
   ]
  },
  {
   "cell_type": "code",
   "execution_count": null,
   "metadata": {},
   "outputs": [],
   "source": [
    "points = (-19.20600998877477, -15.16349705205003, -117.7208544442338, -110.2604021311965)\n",
    "srtm = xr.open_dataset('data/SRTM15_V2.5.nc')\n",
    "fig = pygmt.Figure()\n",
    "pygmt.config(FORMAT_GEO_MAP=\"ddd.x\", MAP_FRAME_TYPE=\"plain\", FONT_LABEL=\"15p,Helvetica,black\", FONT_ANNOT=\"15p\")\n",
    "pygmt.config(FONT_ANNOT_PRIMARY=\"15p,Helvetica,black\")\n",
    "\n",
    "############################ SWIR ##################################\n",
    "pygmt.makecpt(cmap=\"haxby\", series=[-4000, -1500, 1], background='o')\n",
    "fig.grdimage(\n",
    "    grid = xr.DataArray(srtm.z, coords=(srtm.lat, srtm.lon)),\n",
    "    # shading = shade_SWIR,\n",
    "    projection=\"M90c\",\n",
    "    region = [points[2], points[3], points[0], points[1]],\n",
    "    frame=[\"WSrt\", \"xa0.5\", \"ya0.5\"],\n",
    "    cmap = True,\n",
    "    # shading = pygmt.grdgradient(xr.DataArray(srtm.z, coords=(srtm.lat, srtm.lon)), direction='a', normalize=True)\n",
    "    )\n",
    "fig.grdcontour(\n",
    "    grid=predictions['Labels'],\n",
    "    annotation=\"200+f12p\", \n",
    "    interval=1,\n",
    "    pen = \"1p, black\",\n",
    "    limit=[-3400, 2800]\n",
    "    )\n",
    "fig.show()"
   ]
  }
 ],
 "metadata": {
  "kernelspec": {
   "display_name": "swot",
   "language": "python",
   "name": "python3"
  },
  "language_info": {
   "codemirror_mode": {
    "name": "ipython",
    "version": 3
   },
   "file_extension": ".py",
   "mimetype": "text/x-python",
   "name": "python",
   "nbconvert_exporter": "python",
   "pygments_lexer": "ipython3",
   "version": "3.10.14"
  }
 },
 "nbformat": 4,
 "nbformat_minor": 2
}
