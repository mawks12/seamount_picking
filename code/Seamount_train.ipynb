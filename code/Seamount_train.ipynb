{
 "cells": [
  {
   "cell_type": "code",
   "execution_count": null,
   "metadata": {},
   "outputs": [],
   "source": [
    "from pathlib import Path\n",
    "import pandas as pd\n",
    "import numpy as np\n",
    "from bs4 import BeautifulSoup\n",
    "from smount_predictors import SeamountScorer, SeamountTransformer, SeamountHelp\n",
    "from sklearn.pipeline import Pipeline\n",
    "from sklearn.svm import LinearSVC\n",
    "from sklearn.model_selection import GridSearchCV"
   ]
  },
  {
   "cell_type": "code",
   "execution_count": null,
   "metadata": {},
   "outputs": [],
   "source": [
    "pipe = Pipeline([\n",
    "    ('trans', SeamountTransformer()),\n",
    "    ('predictor', LinearSVC())\n",
    "])\n",
    "\n",
    "param_grid = {\n",
    "    'predictor__C': np.logspace(-4, 4, 9)\n",
    "}\n",
    "\n",
    "grid = GridSearchCV(pipe, param_grid, cv=5, n_jobs=-1, scoring=SeamountScorer())"
   ]
  },
  {
   "cell_type": "code",
   "execution_count": null,
   "metadata": {},
   "outputs": [],
   "source": [
    "coords_file = Path('data') / 'Seamount_training_zone.kml'\n",
    "with open(coords_file) as f:\n",
    "    soup = BeautifulSoup(f, 'xml')\n",
    "marks = soup.find_all('Placemark')\n",
    "coords = np.array([[float(mark.find('latitude').text), float(mark.find('longitude').text)] for mark in marks])\n",
    "coords = (np.min(coords[:, 0]), np.max(coords[:, 0]), np.min(coords[:, 1]), np.max(coords[:, 1]))\n",
    "with open(Path('data') / 'vgg_swot.xyz', 'r') as f:\n",
    "    zone = SeamountHelp.readCroppedxyz(f, coords)"
   ]
  },
  {
   "cell_type": "code",
   "execution_count": null,
   "metadata": {},
   "outputs": [],
   "source": [
    "y_file = Path('out') / 'new_seamounts.kml'\n",
    "with open(y_file, 'r') as f:\n",
    "    soup = BeautifulSoup(f, 'xml')\n",
    "marks = soup.find_all('Placemark')\n",
    "y = np.array([mark.find('coordinates').text.split(',')[:2] for mark in marks]).astype(float)\n",
    "y = y[:, [1, 0]]"
   ]
  },
  {
   "cell_type": "code",
   "execution_count": null,
   "metadata": {},
   "outputs": [],
   "source": [
    "train_data = pd.DataFrame(zone, columns=['lat', 'lon', 'z'])\n",
    "train_data = train_data.set_index(['lat', 'lon'])\n",
    "train_data['y'] = 0\n",
    "train_data[(y[:, 1], y[:, 0])] = 1"
   ]
  }
 ],
 "metadata": {
  "kernelspec": {
   "display_name": "seamounts",
   "language": "python",
   "name": "python3"
  },
  "language_info": {
   "codemirror_mode": {
    "name": "ipython",
    "version": 3
   },
   "file_extension": ".py",
   "mimetype": "text/x-python",
   "name": "python",
   "nbconvert_exporter": "python",
   "pygments_lexer": "ipython3",
   "version": "3.11.9"
  }
 },
 "nbformat": 4,
 "nbformat_minor": 2
}
