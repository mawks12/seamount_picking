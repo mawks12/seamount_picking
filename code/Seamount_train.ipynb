{
 "cells": [
  {
   "cell_type": "code",
   "execution_count": 1,
   "metadata": {},
   "outputs": [],
   "source": [
    "from pathlib import Path\n",
    "import os\n",
    "import pandas as pd\n",
    "from smount_predictors import SeamountTransformer, SeamountHelp, SeamountCVSplitter\n",
    "from sklearn.pipeline import Pipeline\n",
    "from sklearn.svm import SVC\n",
    "from sklearn.model_selection import GridSearchCV\n",
    "import numpy as np\n",
    "import xarray as xr\n",
    "import simplekml"
   ]
  },
  {
   "cell_type": "code",
   "execution_count": 4,
   "metadata": {},
   "outputs": [
    {
     "name": "stderr",
     "output_type": "stream",
     "text": [
      "grdcut [WARNING]: (w - x_min) must equal (NX + eps) * x_inc), where NX is an integer and |eps| <= 0.0001.\n",
      "grdcut [WARNING]: w reset from 129.672869 to 129.666666667\n",
      "grdcut [WARNING]: (e - x_min) must equal (NX + eps) * x_inc), where NX is an integer and |eps| <= 0.0001.\n",
      "grdcut [WARNING]: e reset from 150.058463 to 150.066666667\n",
      "grdcut [WARNING]: (s - y_min) must equal (NY + eps) * y_inc), where NY is an integer and |eps| <= 0.0001.\n",
      "grdcut [WARNING]: s reset from -62.484863 to -62.5\n",
      "grdcut [WARNING]: (n - y_min) must equal (NY + eps) * y_inc), where NY is an integer and |eps| <= 0.0001.\n",
      "grdcut [WARNING]: n reset from -49.759482 to -49.75\n",
      "grdcut [WARNING]: (w - x_min) must equal (NX + eps) * x_inc), where NX is an integer and |eps| <= 0.0001.\n",
      "grdcut [WARNING]: w reset from 86.617601 to 86.6166666667\n",
      "grdcut [WARNING]: (e - x_min) must equal (NX + eps) * x_inc), where NX is an integer and |eps| <= 0.0001.\n",
      "grdcut [WARNING]: e reset from 96.793828 to 96.8\n",
      "grdcut [WARNING]: (s - y_min) must equal (NY + eps) * y_inc), where NY is an integer and |eps| <= 0.0001.\n",
      "grdcut [WARNING]: s reset from -43.792914 to -43.8\n",
      "grdcut [WARNING]: (n - y_min) must equal (NY + eps) * y_inc), where NY is an integer and |eps| <= 0.0001.\n",
      "grdcut [WARNING]: n reset from -35.906902 to -35.9\n"
     ]
    },
    {
     "data": {
      "text/plain": [
       "{1: [np.float64(-62.484863),\n",
       "  np.float64(-49.759482),\n",
       "  np.float64(129.672869),\n",
       "  np.float64(150.058463)],\n",
       " 2: [np.float64(-43.792914),\n",
       "  np.float64(-35.906902),\n",
       "  np.float64(86.617601),\n",
       "  np.float64(96.793828)],\n",
       " 3: [np.float64(-19.25),\n",
       "  np.float64(-16.85),\n",
       "  np.float64(-112.3),\n",
       "  np.float64(-110.5)]}"
      ]
     },
     "execution_count": 4,
     "metadata": {},
     "output_type": "execute_result"
    }
   ],
   "source": [
    "# Data File generation. Convert to markdown if not needed\n",
    "\n",
    "point_zones = np.array([\n",
    "    [[-49.759482,130.811756], [-50.078953,145.181173], [-62.484863,129.672869], [-61.904762,150.058463]],\n",
    "    [[-35.906902, 90.063967], [-37.659520, 96.793828], [-41.388205, 86.617601], [-43.792914, 95.062691]],\n",
    "    [[-19.25,-111], [-16.85,-111], [-18,-112.3], [-18,-110.5]]\n",
    "    ])\n",
    "name_coords = {}\n",
    "name=1\n",
    "for zone in point_zones:\n",
    "    min_lat = min(zone[:, 0])\n",
    "    max_lat = max(zone[:, 0])\n",
    "    min_lon = min(zone[:, 1])\n",
    "    max_lon = max(zone[:, 1])\n",
    "    os.system(f'gmt grdcut data/vgg_swot.grd -Gdata/unlabled_zone_{name}.nc -R{min_lon}/{max_lon}/{min_lat}/{max_lat}')\n",
    "    name_coords[name] = [min_lat, max_lat, min_lon, max_lon]\n",
    "    name+=1\n",
    "name_coords"
   ]
  },
  {
   "cell_type": "code",
   "execution_count": null,
   "metadata": {},
   "outputs": [],
   "source": [
    "kml = simplekml.Kml()\n",
    "mounts = pd.read_csv('out/handpick_train_coords.csv')\n",
    "lls = mounts.to_numpy()\n",
    "for ind, ll in enumerate(lls):\n",
    "    kml.newpoint(coords=[(ll[2], ll[1])], name=ll[0])\n",
    "kml.save('out/handpick_train_coords.kml')"
   ]
  },
  {
   "cell_type": "code",
   "execution_count": null,
   "metadata": {},
   "outputs": [],
   "source": [
    "x_lst = []\n",
    "y_lst = []\n",
    "for name, coords in name_coords.items():\n",
    "    new_coords = mounts\n",
    "    old_coords = pd.read_csv('data/all_training.xyhrdnc', sep=' ', names=['lon', 'lat', 'height', 'radius', 'dept', 'name', 'cat'])\n",
    "    old_coords = old_coords[['lat', 'lon', 'radius', 'name']]\n",
    "    points = SeamountHelp.readKMLbounds(Path('data/seamount_training_zone.kml'))\n",
    "    points = [coords[2], coords[3], coords[0], coords[1]]\n",
    "    old_coords = old_coords[(old_coords['lat'] > points[0]) & (old_coords['lat'] < points[1]) & (old_coords['lon'] > points[2]) & (old_coords['lon'] < points[3])]\n",
    "    new_coords = new_coords[(new_coords['lat'] > points[0]) & (new_coords['lat'] < points[1]) & (new_coords['lon'] > points[2]) & (new_coords['lon'] < points[3])]\n",
    "    train_coords = pd.concat([old_coords, new_coords], ignore_index=True)\n",
    "    data = xr.open_dataset(f'data/unlabled_zone_{name}.nc').to_dataframe().reset_index()\n",
    "    seamounts = train_coords\n",
    "    labled_data = SeamountHelp.seamount_radial_match(data, train_coords)\n",
    "    x_lst.append(labled_data[['lat', 'lon', 'z']])\n",
    "    y_lst.append(labled_data['Labels'])"
   ]
  },
  {
   "cell_type": "code",
   "execution_count": 2,
   "metadata": {},
   "outputs": [],
   "source": [
    "pipe = Pipeline([\n",
    "    ('trans', SeamountTransformer()),\n",
    "    ('predictor', SVC(kernel='rbf', class_weight='balanced'))\n",
    "])\n",
    "\n",
    "param_grid = {\n",
    "    'predictor__C': np.linspace(1, 10),\n",
    "    'trans__sigma': np.linspace(0.1, 2)\n",
    "    }\n",
    "\n",
    "search = GridSearchCV(estimator=pipe, param_grid=param_grid, n_jobs=-1, cv=SeamountCVSplitter(5), verbose=3)"
   ]
  },
  {
   "cell_type": "code",
   "execution_count": 2,
   "metadata": {},
   "outputs": [],
   "source": [
    "points = SeamountHelp.readKMLbounds(Path('data/seamount_training_zone.kml'))\n",
    "data = SeamountHelp.readAndFilterGRD(Path('data') / 'training_data_new.nc')\n",
    "X = data.to_dataframe().reset_index()[['lat', 'lon' , 'z']]"
   ]
  },
  {
   "cell_type": "code",
   "execution_count": null,
   "metadata": {},
   "outputs": [],
   "source": [
    "y = data.to_dataframe().reset_index()['Labels']\n",
    "search.fit(X, y)\n",
    "print(f'train score: {search.score(X, y)}')"
   ]
  },
  {
   "cell_type": "code",
   "execution_count": 4,
   "metadata": {},
   "outputs": [],
   "source": [
    "import pickle\n",
    "from sklearn.cluster import DBSCAN\n",
    "from smount_predictors.src.SeamountHelp import PipelinePredictor\n",
    "\n",
    "full_pipeline = PipelinePredictor(pipe, DBSCAN(eps=0.00029088820866630336, min_samples=4, metric='haversine'))\n",
    "# DBSCAN epsilon perameter above is the cartesian measurement of grid spacing in 1 armin spaced lat/lon grid\n",
    "pickle.dump(full_pipeline, open('out/3d_model.pkl', 'wb'))"
   ]
  },
  {
   "cell_type": "code",
   "execution_count": null,
   "metadata": {},
   "outputs": [],
   "source": [
    "import xarray as xr\n",
    "import pygmt\n",
    "\n",
    "\n",
    "X['Labels'] = pipe.predict(X)\n",
    "predictions = xr.Dataset.from_dataframe(X.set_index(['lat', 'lon'])).set_coords(['lon', 'lat'])"
   ]
  },
  {
   "cell_type": "code",
   "execution_count": null,
   "metadata": {},
   "outputs": [],
   "source": [
    "points = (-19.20600998877477, -15.16349705205003, -117.7208544442338, -110.2604021311965)\n",
    "srtm = xr.open_dataset('data/SRTM15_V2.5.nc')\n",
    "fig = pygmt.Figure()\n",
    "pygmt.config(FORMAT_GEO_MAP=\"ddd.x\", MAP_FRAME_TYPE=\"plain\", FONT_LABEL=\"15p,Helvetica,black\", FONT_ANNOT=\"15p\")\n",
    "pygmt.config(FONT_ANNOT_PRIMARY=\"15p,Helvetica,black\")\n",
    "\n",
    "############################ SWIR ##################################\n",
    "pygmt.makecpt(cmap=\"haxby\", series=[-4000, -1500, 1], background='o')\n",
    "fig.grdimage(\n",
    "    grid = xr.DataArray(srtm.z, coords=(srtm.lat, srtm.lon)),\n",
    "    # shading = shade_SWIR,\n",
    "    projection=\"M90c\",\n",
    "    region = [points[2], points[3], points[0], points[1]],\n",
    "    frame=[\"WSrt\", \"xa0.5\", \"ya0.5\"],\n",
    "    cmap = True,\n",
    "    # shading = pygmt.grdgradient(xr.DataArray(srtm.z, coords=(srtm.lat, srtm.lon)), direction='a', normalize=True)\n",
    "    )\n",
    "fig.grdcontour(\n",
    "    grid=predictions['Labels'],\n",
    "    annotation=\"200+f12p\", \n",
    "    interval=1,\n",
    "    pen = \"1p, black\",\n",
    "    limit=[-3400, 2800]\n",
    "    )\n",
    "fig.show()"
   ]
  }
 ],
 "metadata": {
  "kernelspec": {
   "display_name": "Python 3 (ipykernel)",
   "language": "python",
   "name": "python3"
  },
  "language_info": {
   "codemirror_mode": {
    "name": "ipython",
    "version": 3
   },
   "file_extension": ".py",
   "mimetype": "text/x-python",
   "name": "python",
   "nbconvert_exporter": "python",
   "pygments_lexer": "ipython3",
   "version": "3.10.14"
  }
 },
 "nbformat": 4,
 "nbformat_minor": 4
}
