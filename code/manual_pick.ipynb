{
 "cells": [
  {
   "cell_type": "code",
   "execution_count": 13,
   "metadata": {},
   "outputs": [],
   "source": [
    "from pathlib import Path\n",
    "import simplekml\n",
    "import numpy as np"
   ]
  },
  {
   "cell_type": "code",
   "execution_count": 14,
   "metadata": {},
   "outputs": [
    {
     "data": {
      "text/plain": [
       "array([[ -17.045093, -111.711268],\n",
       "       [ -17.28878 , -111.588358],\n",
       "       [ -16.904686, -111.620035],\n",
       "       [ -17.323153, -111.08936 ],\n",
       "       [ -17.120429, -111.095832],\n",
       "       [ -17.650116, -112.092793],\n",
       "       [ -17.529504, -112.500056],\n",
       "       [ -18.051034, -112.708665],\n",
       "       [ -18.049371, -112.651207],\n",
       "       [ -18.519601, -111.202388],\n",
       "       [ -18.979904, -110.570879],\n",
       "       [ -17.958249, -111.757367],\n",
       "       [ -17.656078, -110.519189],\n",
       "       [ -18.111239, -110.462386],\n",
       "       [ -17.846521, -111.424642],\n",
       "       [ -17.705062, -111.531658],\n",
       "       [ -17.871112, -111.035003],\n",
       "       [ -18.012418, -111.980564],\n",
       "       [ -16.976796, -112.492191]])"
      ]
     },
     "execution_count": 14,
     "metadata": {},
     "output_type": "execute_result"
    }
   ],
   "source": [
    "coords = Path('data/handpick_train_coords.csv')\n",
    "kml = simplekml.Kml()\n",
    "with coords.open() as f:\n",
    "    lls = f.read().split()\n",
    "    lls = [float(ll[:-1]) for ll in lls]\n",
    "lls = np.array(lls).reshape(-1, 2)\n",
    "lls"
   ]
  },
  {
   "cell_type": "code",
   "execution_count": 16,
   "metadata": {},
   "outputs": [],
   "source": [
    "names = []\n",
    "for ind, ll in enumerate(lls):\n",
    "    kml.newpoint(coords=[(ll[1], ll[0])], name=f'mh_{ind + 1}')\n",
    "    names.append(f'mh_{ind + 1}')\n",
    "kml.save('out/handpick_test_coords.kml')"
   ]
  },
  {
   "cell_type": "code",
   "execution_count": 17,
   "metadata": {},
   "outputs": [],
   "source": [
    "import pandas as pd\n",
    "\n",
    "df = pd.DataFrame({'name': names, 'lat': lls[:, 0], 'lon': lls[:, 1]})\n",
    "df.to_csv('out/handpick_test_coords.csv', index=False)"
   ]
  },
  {
   "cell_type": "code",
   "execution_count": 21,
   "metadata": {},
   "outputs": [],
   "source": [
    "from smount_predictors import SeamountHelp\n",
    "new_coords = pd.read_csv('out/handpick_test_coords.csv')\n",
    "old_coords = pd.read_csv('data/all.xyhrdnc', sep=' ', names=['lon', 'lat', 'height', 'radius', 'dept', 'name', 'cat'])\n",
    "old_coords = old_coords[['lat', 'lon', 'radius', 'name']]\n",
    "points = SeamountHelp.readKMLbounds(Path('data/seamount_training_zone.kml'))\n",
    "old_coords = old_coords[(old_coords['lat'] > points[0]) & (old_coords['lat'] < points[1]) & (old_coords['lon'] > points[2]) & (old_coords['lon'] < points[3])]\n",
    "train_coords = pd.concat([old_coords, new_coords], ignore_index=True)\n",
    "train_coords.to_csv('out/train_mounts.csv')"
   ]
  },
  {
   "cell_type": "code",
   "execution_count": null,
   "metadata": {},
   "outputs": [],
   "source": []
  }
 ],
 "metadata": {
  "kernelspec": {
   "display_name": "base",
   "language": "python",
   "name": "python3"
  },
  "language_info": {
   "codemirror_mode": {
    "name": "ipython",
    "version": 3
   },
   "file_extension": ".py",
   "mimetype": "text/x-python",
   "name": "python",
   "nbconvert_exporter": "python",
   "pygments_lexer": "ipython3",
   "version": "3.10.14"
  }
 },
 "nbformat": 4,
 "nbformat_minor": 2
}
