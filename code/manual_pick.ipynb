{
 "cells": [
  {
   "cell_type": "code",
   "execution_count": 49,
   "metadata": {},
   "outputs": [],
   "source": [
    "from pathlib import Path\n",
    "import simplekml\n",
    "import pandas as pd\n",
    "import xarray as xr\n",
    "import numpy as np"
   ]
  },
  {
   "cell_type": "markdown",
   "metadata": {},
   "source": [
    "### Data formating  \n",
    "reformats the data in the handpicked coordinates, and concatinates old and new datasets, as well as generating basic files for viewing (kml, csv, etc)"
   ]
  },
  {
   "cell_type": "code",
   "execution_count": 50,
   "metadata": {},
   "outputs": [],
   "source": [
    "kml = simplekml.Kml()\n",
    "mounts = pd.read_csv('out/handpick_train_coords.csv')\n",
    "lls = mounts.to_numpy()\n",
    "for ind, ll in enumerate(lls):\n",
    "    kml.newpoint(coords=[(ll[2], ll[1])], name=ll[0])\n",
    "kml.save('out/handpick_train_coords.kml')"
   ]
  },
  {
   "cell_type": "code",
   "execution_count": 51,
   "metadata": {},
   "outputs": [],
   "source": [
    "from smount_predictors import SeamountHelp\n",
    "new_coords = mounts\n",
    "old_coords = pd.read_csv('data/all_training.xyhrdnc', sep=' ', names=['lon', 'lat', 'height', 'radius', 'dept', 'name', 'cat'])\n",
    "old_coords = old_coords[['lat', 'lon', 'radius', 'name']]\n",
    "points = SeamountHelp.readKMLbounds(Path('data/seamount_training_zone.kml'))\n",
    "points = (-19.20600998877477, -15.16349705205003, -117.7208544442338, -110.2604021311965)\n",
    "old_coords = old_coords[(old_coords['lat'] > points[0]) & (old_coords['lat'] < points[1]) & (old_coords['lon'] > points[2]) & (old_coords['lon'] < points[3])]\n",
    "train_coords = pd.concat([old_coords, new_coords], ignore_index=True)\n",
    "train_coords.to_csv('out/train_mounts.csv')"
   ]
  },
  {
   "cell_type": "markdown",
   "metadata": {},
   "source": [
    "### Training data generation\n",
    "takes the new merged datasets and the vgg data and lables the vgg data, before outputing a new training dataset"
   ]
  },
  {
   "cell_type": "code",
   "execution_count": 52,
   "metadata": {},
   "outputs": [],
   "source": [
    "data = xr.open_dataset('data/figure_datasets/raw_data.nc').to_dataframe().reset_index()\n",
    "data = SeamountHelp.readAndFilterGRD(Path('data/vgg_swot.grd'), points[:2], points[2:]).to_dataframe().reset_index()\n",
    "seamounts = train_coords\n",
    "labled_data = SeamountHelp.seamount_radial_match(data, train_coords)"
   ]
  },
  {
   "cell_type": "code",
   "execution_count": 53,
   "metadata": {},
   "outputs": [],
   "source": [
    "nc_data = xr.Dataset.from_dataframe(labled_data.set_index(['lat', 'lon']))\n",
    "nc_data.to_netcdf('data/test_files/training_data_new.nc')"
   ]
  }
 ],
 "metadata": {
  "kernelspec": {
   "display_name": "swot",
   "language": "python",
   "name": "python3"
  },
  "language_info": {
   "codemirror_mode": {
    "name": "ipython",
    "version": 3
   },
   "file_extension": ".py",
   "mimetype": "text/x-python",
   "name": "python",
   "nbconvert_exporter": "python",
   "pygments_lexer": "ipython3",
   "version": "3.10.14"
  }
 },
 "nbformat": 4,
 "nbformat_minor": 2
}
