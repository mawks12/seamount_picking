{
 "cells": [
  {
   "cell_type": "code",
   "execution_count": 21,
   "metadata": {},
   "outputs": [],
   "source": [
    "from pathlib import Path\n",
    "import simplekml\n",
    "import numpy as np"
   ]
  },
  {
   "cell_type": "code",
   "execution_count": 22,
   "metadata": {},
   "outputs": [
    {
     "data": {
      "text/plain": [
       "array([[  -8.387889, -107.752276],\n",
       "       [  -8.453933, -107.631091],\n",
       "       [  -8.608563, -107.743884],\n",
       "       [  -8.592944, -107.807835],\n",
       "       [  -8.747102, -107.554562],\n",
       "       [  -8.704169, -107.434377],\n",
       "       [  -9.098813, -107.743341],\n",
       "       [  -9.101406, -108.120746],\n",
       "       [  -8.124228, -107.737354],\n",
       "       [  -7.938755, -107.720172],\n",
       "       [  -7.709442, -107.651592],\n",
       "       [  -7.822359, -107.521941],\n",
       "       [  -7.868704, -107.412787],\n",
       "       [  -8.587097, -108.140342],\n",
       "       [  -7.68421 , -108.627327],\n",
       "       [  -7.329752, -108.094839],\n",
       "       [  -7.315956, -108.184504],\n",
       "       [  -7.483789, -107.946514],\n",
       "       [  -7.108926, -108.172355],\n",
       "       [  -9.240841, -107.835452]])"
      ]
     },
     "execution_count": 22,
     "metadata": {},
     "output_type": "execute_result"
    }
   ],
   "source": [
    "coords = Path('data/handpick_test_coords.csv')\n",
    "kml = simplekml.Kml()\n",
    "with coords.open() as f:\n",
    "    lls = f.read().split()\n",
    "    lls = [float(ll[:-1]) for ll in lls]\n",
    "lls = np.array(lls).reshape(-1, 2)\n",
    "lls"
   ]
  },
  {
   "cell_type": "code",
   "execution_count": 25,
   "metadata": {},
   "outputs": [],
   "source": [
    "names = []\n",
    "for ind, ll in enumerate(lls):\n",
    "    kml.newpoint(coords=[(ll[1], ll[0])], name=f'mh_{ind + 1}')\n",
    "    names.append(f'mh_{ind + 1}')\n",
    "kml.save('out/handpick_test_coords.kml')"
   ]
  },
  {
   "cell_type": "code",
   "execution_count": 24,
   "metadata": {},
   "outputs": [],
   "source": [
    "import pandas as pd\n",
    "\n",
    "df = pd.DataFrame({'name': names, 'lat': lls[:, 0], 'lon': lls[:, 1]})\n",
    "df.to_csv('out/handpick_test_coords.csv', index=False)"
   ]
  },
  {
   "cell_type": "code",
   "execution_count": 21,
   "metadata": {},
   "outputs": [],
   "source": [
    "from smount_predictors import SeamountHelp\n",
    "new_coords = pd.read_csv('out/handpick_test_coords.csv')\n",
    "old_coords = pd.read_csv('data/all.xyhrdnc', sep=' ', names=['lon', 'lat', 'height', 'radius', 'dept', 'name', 'cat'])\n",
    "old_coords = old_coords[['lat', 'lon', 'radius', 'name']]\n",
    "points = SeamountHelp.readKMLbounds(Path('data/seamount_training_zone.kml'))\n",
    "old_coords = old_coords[(old_coords['lat'] > points[0]) & (old_coords['lat'] < points[1]) & (old_coords['lon'] > points[2]) & (old_coords['lon'] < points[3])]\n",
    "train_coords = pd.concat([old_coords, new_coords], ignore_index=True)\n",
    "train_coords.to_csv('out/train_mounts.csv')"
   ]
  },
  {
   "cell_type": "code",
   "execution_count": null,
   "metadata": {},
   "outputs": [],
   "source": []
  }
 ],
 "metadata": {
  "kernelspec": {
   "display_name": "base",
   "language": "python",
   "name": "python3"
  },
  "language_info": {
   "codemirror_mode": {
    "name": "ipython",
    "version": 3
   },
   "file_extension": ".py",
   "mimetype": "text/x-python",
   "name": "python",
   "nbconvert_exporter": "python",
   "pygments_lexer": "ipython3",
   "version": "3.10.14"
  }
 },
 "nbformat": 4,
 "nbformat_minor": 2
}
