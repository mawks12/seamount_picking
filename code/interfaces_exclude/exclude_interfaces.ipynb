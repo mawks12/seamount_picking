{
 "cells": [
  {
   "cell_type": "code",
   "execution_count": 5,
   "id": "b2f913e5-61d7-4907-ba0f-474901f96256",
   "metadata": {},
   "outputs": [],
   "source": [
    "from pathlib import Path\n",
    "import numpy as np\n",
    "import xarray as xr\n",
    "import plotly.express as px\n",
    "import os\n",
    "# import cartopy.crs as ccrs\n",
    "import matplotlib.pyplot as plt\n",
    "import pandas as pd\n",
    "import pygmt\n",
    "import sys\n",
    "import scipy.signal\n",
    "import random\n",
    "import scipy.stats as st\n",
    "from scipy.spatial import cKDTree\n",
    "from collections import defaultdict\n",
    "from geopy.distance import geodesic\n",
    "from datetime import datetime"
   ]
  },
  {
   "cell_type": "markdown",
   "id": "29018f75-b0f8-43c9-bd3f-8202df2a1270",
   "metadata": {},
   "source": [
    "### load files"
   ]
  },
  {
   "cell_type": "code",
   "execution_count": 6,
   "id": "7ff0e725-7abb-4e48-9f8c-19eb5d1846e8",
   "metadata": {},
   "outputs": [],
   "source": [
    "def interpolate_path(path, max_distance_km=5):\n",
    "    interpolated_path = []\n",
    "    for i in range(len(path) - 1):\n",
    "        start_point = path[i]\n",
    "        end_point = path[i + 1]\n",
    "        distance = geodesic(start_point, end_point).km\n",
    "        if distance <= max_distance_km:\n",
    "            interpolated_path.append(start_point)\n",
    "        else:\n",
    "            num_points = int(distance // max_distance_km) + 1\n",
    "            lat_step = (end_point[0] - start_point[0]) / num_points\n",
    "            lon_step = (end_point[1] - start_point[1]) / num_points\n",
    "            for j in range(num_points):\n",
    "                interpolated_path.append((start_point[0] + j * lat_step, start_point[1] + j * lon_step))\n",
    "    interpolated_path.append(path[-1])\n",
    "    return interpolated_path\n",
    "\n",
    "\n",
    "# # Function to calculate the haversine distance between two points\n",
    "# def approximate_distance(lat1, lon1, lat2, lon2):\n",
    "#     dlat = np.abs(lat2 - lat1)\n",
    "#     dlon = np.abs(lon2 - lon1)\n",
    "#     avg_lat = (lat1 + lat2) / 2.0\n",
    "#     distance = ((dlat * 110)**2 + (dlon * 110 * np.cos(np.radians(avg_lat)))**2)**0.5\n",
    "#     return distance\n",
    "\n",
    "# # Function to calculate the minimum distance between a point and a path\n",
    "# def min_distance_to_path(lat, lon, path):\n",
    "#     distances = [approximate_distance(lat, lon, path_lat, path_lon) for path_lat, path_lon in path]\n",
    "#     return min(distances)\n",
    "points = (-90, 90, -180, 180)\n",
    "lat_min= points[0]\n",
    "lat_max= points[1]\n",
    "lon_min= points[2]\n",
    "lon_max= points[3]\n",
    "\n",
    "# Function to check if a path contains points within the specified area\n",
    "def path_in_studied_area(path, lon_min=lon_min, lon_max=lon_max, lat_min=lat_min, lat_max=lat_max):\n",
    "    for lat, lon in path:\n",
    "        if lon_min <= lon <= lon_max and lat_min <= lat <= lat_max:\n",
    "            return True\n",
    "    return False\n"
   ]
  },
  {
   "cell_type": "markdown",
   "id": "1d0f1059-98ee-49a3-9e00-bb7335a88688",
   "metadata": {},
   "source": [
    "Load the .grd file (NetCDF format)"
   ]
  },
  {
   "cell_type": "code",
   "execution_count": 7,
   "id": "76b48c68-58e9-4443-b43c-31fa3b3c4930",
   "metadata": {},
   "outputs": [],
   "source": [
    "grd_file = Path('.').resolve().parent / 'data/vgg_swot.grd'\n",
    "data = xr.open_dataset(grd_file, engine='netcdf4')\n",
    "threshold = 10 #10 km threshold\n",
    "\n",
    "# Load the ASCII file containing paths\n",
    "ascii_file_path = 'vector_features.xy'\n",
    "paths = defaultdict(list)\n",
    "current_path = None\n",
    "\n",
    "\n",
    "with open(ascii_file_path, 'r') as file:\n",
    "    for line in file:\n",
    "        line = line.strip()\n",
    "        if line.startswith('> -L'):\n",
    "            parts = line.split('-D')\n",
    "            if len(parts) > 1:\n",
    "                description_part = parts[1].strip('\"')\n",
    "                current_path = description_part.split(' ')[0]\n",
    "            else:\n",
    "                current_path = parts[0].split('\"')[1]\n",
    "            paths[current_path] = []  # Initialize the path list\n",
    "        elif current_path is not None and line:\n",
    "            lon, lat = map(float, line.split())\n",
    "            paths[current_path].append((lat, lon))\n",
    "\n",
    "# Interpolate additional points on each path\n",
    "for key in paths:\n",
    "    paths[key] = interpolate_path(paths[key], max_distance_km=threshold)\n",
    "\n",
    "# Filter paths to only include those within the specified area\n",
    "filtered_paths = {key: path for key, path in paths.items() if path_in_studied_area(path)}"
   ]
  },
  {
   "cell_type": "code",
   "execution_count": 10,
   "id": "9b4f1aaf-e372-415d-9e97-3f3edfb53a29",
   "metadata": {},
   "outputs": [
    {
     "ename": "ValueError",
     "evalue": "assignment destination is read-only",
     "output_type": "error",
     "traceback": [
      "\u001b[0;31m---------------------------------------------------------------------------\u001b[0m",
      "\u001b[0;31m_RemoteTraceback\u001b[0m                          Traceback (most recent call last)",
      "\u001b[0;31m_RemoteTraceback\u001b[0m: \n\"\"\"\nTraceback (most recent call last):\n  File \"/Users/m1hawks/Library/Python/3.11/lib/python/site-packages/joblib/externals/loky/process_executor.py\", line 463, in _process_worker\n    r = call_item()\n        ^^^^^^^^^^^\n  File \"/Users/m1hawks/Library/Python/3.11/lib/python/site-packages/joblib/externals/loky/process_executor.py\", line 291, in __call__\n    return self.fn(*self.args, **self.kwargs)\n           ^^^^^^^^^^^^^^^^^^^^^^^^^^^^^^^^^^\n  File \"/Users/m1hawks/Library/Python/3.11/lib/python/site-packages/joblib/parallel.py\", line 598, in __call__\n    return [func(*args, **kwargs)\n           ^^^^^^^^^^^^^^^^^^^^^^\n  File \"/Users/m1hawks/Library/Python/3.11/lib/python/site-packages/joblib/parallel.py\", line 598, in <listcomp>\n    return [func(*args, **kwargs)\n            ^^^^^^^^^^^^^^^^^^^^^\n  File \"/var/folders/pv/8l65k1dd4wl0_vtr3mydz87w0160hr/T/ipykernel_23572/873621530.py\", line 21, in process_path\nValueError: assignment destination is read-only\n\"\"\"",
      "\nThe above exception was the direct cause of the following exception:\n",
      "\u001b[0;31mValueError\u001b[0m                                Traceback (most recent call last)",
      "Cell \u001b[0;32mIn[10], line 24\u001b[0m\n\u001b[1;32m     21\u001b[0m         mask[distance\u001b[38;5;241m<\u001b[39mthreshold] \u001b[38;5;241m=\u001b[39m \u001b[38;5;28;01mFalse\u001b[39;00m\n\u001b[1;32m     23\u001b[0m \u001b[38;5;66;03m# loop over each point on path in parallel\u001b[39;00m\n\u001b[0;32m---> 24\u001b[0m \u001b[43mParallel\u001b[49m\u001b[43m(\u001b[49m\u001b[43mn_jobs\u001b[49m\u001b[38;5;241;43m=\u001b[39;49m\u001b[38;5;241;43m-\u001b[39;49m\u001b[38;5;241;43m1\u001b[39;49m\u001b[43m)\u001b[49m\u001b[43m(\u001b[49m\u001b[43mdelayed\u001b[49m\u001b[43m(\u001b[49m\u001b[43mprocess_path\u001b[49m\u001b[43m)\u001b[49m\u001b[43m(\u001b[49m\u001b[43mpath\u001b[49m\u001b[43m)\u001b[49m\u001b[43m \u001b[49m\u001b[38;5;28;43;01mfor\u001b[39;49;00m\u001b[43m \u001b[49m\u001b[43mpath\u001b[49m\u001b[43m \u001b[49m\u001b[38;5;129;43;01min\u001b[39;49;00m\u001b[43m \u001b[49m\u001b[38;5;28;43mlist\u001b[39;49m\u001b[43m(\u001b[49m\u001b[43mfiltered_paths\u001b[49m\u001b[38;5;241;43m.\u001b[39;49m\u001b[43mvalues\u001b[49m\u001b[43m(\u001b[49m\u001b[43m)\u001b[49m\u001b[43m)\u001b[49m\u001b[43m)\u001b[49m\n\u001b[1;32m     26\u001b[0m \u001b[38;5;66;03m# Set the z values to NaN where the mask is False\u001b[39;00m\n\u001b[1;32m     27\u001b[0m data[\u001b[38;5;124m'\u001b[39m\u001b[38;5;124mz\u001b[39m\u001b[38;5;124m'\u001b[39m]\u001b[38;5;241m.\u001b[39mvalues[mask \u001b[38;5;241m==\u001b[39m \u001b[38;5;28;01mFalse\u001b[39;00m] \u001b[38;5;241m=\u001b[39m \u001b[38;5;241m0\u001b[39m\n",
      "File \u001b[0;32m~/Library/Python/3.11/lib/python/site-packages/joblib/parallel.py:2007\u001b[0m, in \u001b[0;36mParallel.__call__\u001b[0;34m(self, iterable)\u001b[0m\n\u001b[1;32m   2001\u001b[0m \u001b[38;5;66;03m# The first item from the output is blank, but it makes the interpreter\u001b[39;00m\n\u001b[1;32m   2002\u001b[0m \u001b[38;5;66;03m# progress until it enters the Try/Except block of the generator and\u001b[39;00m\n\u001b[1;32m   2003\u001b[0m \u001b[38;5;66;03m# reaches the first `yield` statement. This starts the asynchronous\u001b[39;00m\n\u001b[1;32m   2004\u001b[0m \u001b[38;5;66;03m# dispatch of the tasks to the workers.\u001b[39;00m\n\u001b[1;32m   2005\u001b[0m \u001b[38;5;28mnext\u001b[39m(output)\n\u001b[0;32m-> 2007\u001b[0m \u001b[38;5;28;01mreturn\u001b[39;00m output \u001b[38;5;28;01mif\u001b[39;00m \u001b[38;5;28mself\u001b[39m\u001b[38;5;241m.\u001b[39mreturn_generator \u001b[38;5;28;01melse\u001b[39;00m \u001b[38;5;28;43mlist\u001b[39;49m\u001b[43m(\u001b[49m\u001b[43moutput\u001b[49m\u001b[43m)\u001b[49m\n",
      "File \u001b[0;32m~/Library/Python/3.11/lib/python/site-packages/joblib/parallel.py:1650\u001b[0m, in \u001b[0;36mParallel._get_outputs\u001b[0;34m(self, iterator, pre_dispatch)\u001b[0m\n\u001b[1;32m   1647\u001b[0m     \u001b[38;5;28;01myield\u001b[39;00m\n\u001b[1;32m   1649\u001b[0m     \u001b[38;5;28;01mwith\u001b[39;00m \u001b[38;5;28mself\u001b[39m\u001b[38;5;241m.\u001b[39m_backend\u001b[38;5;241m.\u001b[39mretrieval_context():\n\u001b[0;32m-> 1650\u001b[0m         \u001b[38;5;28;01myield from\u001b[39;00m \u001b[38;5;28mself\u001b[39m\u001b[38;5;241m.\u001b[39m_retrieve()\n\u001b[1;32m   1652\u001b[0m \u001b[38;5;28;01mexcept\u001b[39;00m \u001b[38;5;167;01mGeneratorExit\u001b[39;00m:\n\u001b[1;32m   1653\u001b[0m     \u001b[38;5;66;03m# The generator has been garbage collected before being fully\u001b[39;00m\n\u001b[1;32m   1654\u001b[0m     \u001b[38;5;66;03m# consumed. This aborts the remaining tasks if possible and warn\u001b[39;00m\n\u001b[1;32m   1655\u001b[0m     \u001b[38;5;66;03m# the user if necessary.\u001b[39;00m\n\u001b[1;32m   1656\u001b[0m     \u001b[38;5;28mself\u001b[39m\u001b[38;5;241m.\u001b[39m_exception \u001b[38;5;241m=\u001b[39m \u001b[38;5;28;01mTrue\u001b[39;00m\n",
      "File \u001b[0;32m~/Library/Python/3.11/lib/python/site-packages/joblib/parallel.py:1754\u001b[0m, in \u001b[0;36mParallel._retrieve\u001b[0;34m(self)\u001b[0m\n\u001b[1;32m   1747\u001b[0m \u001b[38;5;28;01mwhile\u001b[39;00m \u001b[38;5;28mself\u001b[39m\u001b[38;5;241m.\u001b[39m_wait_retrieval():\n\u001b[1;32m   1748\u001b[0m \n\u001b[1;32m   1749\u001b[0m     \u001b[38;5;66;03m# If the callback thread of a worker has signaled that its task\u001b[39;00m\n\u001b[1;32m   1750\u001b[0m     \u001b[38;5;66;03m# triggered an exception, or if the retrieval loop has raised an\u001b[39;00m\n\u001b[1;32m   1751\u001b[0m     \u001b[38;5;66;03m# exception (e.g. `GeneratorExit`), exit the loop and surface the\u001b[39;00m\n\u001b[1;32m   1752\u001b[0m     \u001b[38;5;66;03m# worker traceback.\u001b[39;00m\n\u001b[1;32m   1753\u001b[0m     \u001b[38;5;28;01mif\u001b[39;00m \u001b[38;5;28mself\u001b[39m\u001b[38;5;241m.\u001b[39m_aborting:\n\u001b[0;32m-> 1754\u001b[0m         \u001b[38;5;28;43mself\u001b[39;49m\u001b[38;5;241;43m.\u001b[39;49m\u001b[43m_raise_error_fast\u001b[49m\u001b[43m(\u001b[49m\u001b[43m)\u001b[49m\n\u001b[1;32m   1755\u001b[0m         \u001b[38;5;28;01mbreak\u001b[39;00m\n\u001b[1;32m   1757\u001b[0m     \u001b[38;5;66;03m# If the next job is not ready for retrieval yet, we just wait for\u001b[39;00m\n\u001b[1;32m   1758\u001b[0m     \u001b[38;5;66;03m# async callbacks to progress.\u001b[39;00m\n",
      "File \u001b[0;32m~/Library/Python/3.11/lib/python/site-packages/joblib/parallel.py:1789\u001b[0m, in \u001b[0;36mParallel._raise_error_fast\u001b[0;34m(self)\u001b[0m\n\u001b[1;32m   1785\u001b[0m \u001b[38;5;66;03m# If this error job exists, immediately raise the error by\u001b[39;00m\n\u001b[1;32m   1786\u001b[0m \u001b[38;5;66;03m# calling get_result. This job might not exists if abort has been\u001b[39;00m\n\u001b[1;32m   1787\u001b[0m \u001b[38;5;66;03m# called directly or if the generator is gc'ed.\u001b[39;00m\n\u001b[1;32m   1788\u001b[0m \u001b[38;5;28;01mif\u001b[39;00m error_job \u001b[38;5;129;01mis\u001b[39;00m \u001b[38;5;129;01mnot\u001b[39;00m \u001b[38;5;28;01mNone\u001b[39;00m:\n\u001b[0;32m-> 1789\u001b[0m     \u001b[43merror_job\u001b[49m\u001b[38;5;241;43m.\u001b[39;49m\u001b[43mget_result\u001b[49m\u001b[43m(\u001b[49m\u001b[38;5;28;43mself\u001b[39;49m\u001b[38;5;241;43m.\u001b[39;49m\u001b[43mtimeout\u001b[49m\u001b[43m)\u001b[49m\n",
      "File \u001b[0;32m~/Library/Python/3.11/lib/python/site-packages/joblib/parallel.py:745\u001b[0m, in \u001b[0;36mBatchCompletionCallBack.get_result\u001b[0;34m(self, timeout)\u001b[0m\n\u001b[1;32m    739\u001b[0m backend \u001b[38;5;241m=\u001b[39m \u001b[38;5;28mself\u001b[39m\u001b[38;5;241m.\u001b[39mparallel\u001b[38;5;241m.\u001b[39m_backend\n\u001b[1;32m    741\u001b[0m \u001b[38;5;28;01mif\u001b[39;00m backend\u001b[38;5;241m.\u001b[39msupports_retrieve_callback:\n\u001b[1;32m    742\u001b[0m     \u001b[38;5;66;03m# We assume that the result has already been retrieved by the\u001b[39;00m\n\u001b[1;32m    743\u001b[0m     \u001b[38;5;66;03m# callback thread, and is stored internally. It's just waiting to\u001b[39;00m\n\u001b[1;32m    744\u001b[0m     \u001b[38;5;66;03m# be returned.\u001b[39;00m\n\u001b[0;32m--> 745\u001b[0m     \u001b[38;5;28;01mreturn\u001b[39;00m \u001b[38;5;28;43mself\u001b[39;49m\u001b[38;5;241;43m.\u001b[39;49m\u001b[43m_return_or_raise\u001b[49m\u001b[43m(\u001b[49m\u001b[43m)\u001b[49m\n\u001b[1;32m    747\u001b[0m \u001b[38;5;66;03m# For other backends, the main thread needs to run the retrieval step.\u001b[39;00m\n\u001b[1;32m    748\u001b[0m \u001b[38;5;28;01mtry\u001b[39;00m:\n",
      "File \u001b[0;32m~/Library/Python/3.11/lib/python/site-packages/joblib/parallel.py:763\u001b[0m, in \u001b[0;36mBatchCompletionCallBack._return_or_raise\u001b[0;34m(self)\u001b[0m\n\u001b[1;32m    761\u001b[0m \u001b[38;5;28;01mtry\u001b[39;00m:\n\u001b[1;32m    762\u001b[0m     \u001b[38;5;28;01mif\u001b[39;00m \u001b[38;5;28mself\u001b[39m\u001b[38;5;241m.\u001b[39mstatus \u001b[38;5;241m==\u001b[39m TASK_ERROR:\n\u001b[0;32m--> 763\u001b[0m         \u001b[38;5;28;01mraise\u001b[39;00m \u001b[38;5;28mself\u001b[39m\u001b[38;5;241m.\u001b[39m_result\n\u001b[1;32m    764\u001b[0m     \u001b[38;5;28;01mreturn\u001b[39;00m \u001b[38;5;28mself\u001b[39m\u001b[38;5;241m.\u001b[39m_result\n\u001b[1;32m    765\u001b[0m \u001b[38;5;28;01mfinally\u001b[39;00m:\n",
      "\u001b[0;31mValueError\u001b[0m: assignment destination is read-only"
     ]
    }
   ],
   "source": [
    "from joblib import Parallel, delayed\n",
    "\n",
    "# Extract the latitude and longitude data\n",
    "latitudes = data['lat'].values\n",
    "longitudes = data['lon'].values\n",
    "\n",
    "dy = (latitudes[2]-latitudes[1])*111.2 # spacing in km\n",
    "dx = (longitudes[2]-longitudes[1])*111.2*np.cos(latitudes.mean()/180*np.pi) # spacing in km\n",
    "\n",
    "# Create a mask for setting values to NaN within 10 km of any path\n",
    "mask = np.ones(data['z'].shape, dtype=bool)\n",
    "\n",
    "def process_path(path):\n",
    "    for sub_path in path:\n",
    "        lat = sub_path[0]\n",
    "        lon = sub_path[1]\n",
    "        # find pixels within 10 km of the path point\n",
    "        distance_y = np.abs(latitudes - lat)*111.2 # spacing in km\n",
    "        distance_x = np.abs(longitudes - lon)*111.2*np.cos(latitudes.mean()/180*np.pi) # spacing in km\n",
    "        distance = (np.transpose(np.tile(distance_y**2, (distance_x.shape[0],1))) + np.tile(distance_x**2, (distance_y.shape[0],1)))**0.5\n",
    "        mask[distance<threshold] = False\n",
    "\n",
    "# loop over each point on path in parallel\n",
    "(process_path(path) for path in list(filtered_paths.values()))\n",
    "\n",
    "# Set the z values to NaN where the mask is False\n",
    "data['z'].values[mask == False] = 0\n",
    "data.to_netcdf('VGG_SEIR_masked.grd')"
   ]
  },
  {
   "cell_type": "code",
   "execution_count": null,
   "id": "1d8a6c69-f0f5-4558-9393-8525a7593e44",
   "metadata": {},
   "outputs": [],
   "source": [
    "# plt_dat = data.to_dataframe().reset_index()\n",
    "# plt_dat = plt_dat[(plt_dat['lat'] >= lat_min) & (plt_dat['lat'] <= lat_max) & (plt_dat['lon'] >= lon_min) & (plt_dat['lon'] <= lon_max)]\n",
    "# px.scatter(plt_dat,\n",
    "#     x='lon', y='lat', color='z'\n",
    "#     ).show()"
   ]
  },
  {
   "cell_type": "code",
   "execution_count": null,
   "id": "b1e0f3fa",
   "metadata": {},
   "outputs": [],
   "source": [
    "data.to_netcdf('swot_masked.grd')"
   ]
  },
  {
   "cell_type": "code",
   "execution_count": null,
   "id": "8d468bbc-3135-4283-b5ec-fc250801db24",
   "metadata": {},
   "outputs": [],
   "source": [
    "# Plot the filtered paths\n",
    "plt.figure(figsize=(5, 3), dpi=100)\n",
    "for key, path in filtered_paths.items():\n",
    "    lats, lons = zip(*path)\n",
    "    plt.plot(lons, lats, label=key)\n",
    "\n",
    "# Customize the plot\n",
    "plt.xlim([62.5, 87.5])\n",
    "plt.ylim([-45, -32])\n",
    "plt.xlabel('Longitude')\n",
    "plt.ylabel('Latitude')\n",
    "plt.title('Filtered Paths')\n",
    "# plt.legend()\n",
    "plt.grid(True)\n",
    "plt.show()"
   ]
  },
  {
   "cell_type": "code",
   "execution_count": null,
   "id": "ad785a8a-c2c8-498a-922b-9f9fa2055252",
   "metadata": {},
   "outputs": [],
   "source": [
    "vgg_SEIR = xr.open_dataset(\"VGG_smooth_SEIR.grd\")\n",
    "fig = pygmt.Figure()\n",
    "pygmt.config(FORMAT_GEO_MAP=\"ddd.x\", MAP_FRAME_TYPE=\"plain\")\n",
    "\n",
    "fig.shift_origin(xshift=\"17c\")\n",
    "pygmt.makecpt(cmap=\"colors.cpt\", series=[-18, 18, 1], background='o')\n",
    "fig.grdimage(\n",
    "    grid = xr.DataArray(vgg_SEIR.z, coords=(vgg_SEIR.lat, vgg_SEIR.lon)),\n",
    "    projection=\"M15c\",\n",
    "    region = [62.5, 87.5, -45, -32],\n",
    "    frame=[\"WSrt+tSoutheast Indian Ridge\", \"xa2\", \"ya2\"],\n",
    "    cmap = True,\n",
    "    )\n",
    "fig.plot(\n",
    "    data = 'vector_features.xy',\n",
    "    pen=\"3p,gray27,solid\",\n",
    "    )\n",
    "\n",
    "fig.colorbar(position=\"JML+o-17c/0c+w8c/0.3c\", frame=[\"xa5f5+lVGG\", \"y+lEötvös\"])\n",
    "# fig.savefig(\"SWOT_Abyssal_hills.pdf\", dpi=600)\n",
    "fig.show()"
   ]
  },
  {
   "cell_type": "code",
   "execution_count": null,
   "id": "4486eef2-3f96-49e1-b90a-68d8415a6487",
   "metadata": {},
   "outputs": [],
   "source": []
  }
 ],
 "metadata": {
  "kernelspec": {
   "display_name": "Python 3 (ipykernel)",
   "language": "python",
   "name": "python3"
  },
  "language_info": {
   "codemirror_mode": {
    "name": "ipython",
    "version": 3
   },
   "file_extension": ".py",
   "mimetype": "text/x-python",
   "name": "python",
   "nbconvert_exporter": "python",
   "pygments_lexer": "ipython3",
   "version": "3.11.7"
  }
 },
 "nbformat": 4,
 "nbformat_minor": 5
}
