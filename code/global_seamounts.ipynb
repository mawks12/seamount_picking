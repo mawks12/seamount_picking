{
 "cells": [
  {
   "cell_type": "code",
   "execution_count": null,
   "metadata": {},
   "outputs": [],
   "source": [
    "from pathlib import Path\n",
    "import pickle\n",
    "from itertools import product\n",
    "from smount_predictors.src.SeamountHelp import PipelinePredictor\n",
    "from smount_predictors import SeamountHelp\n",
    "import numpy as np\n",
    "import pandas as pd\n",
    "import simplekml\n",
    "import xarray as xr\n"
   ]
  },
  {
   "cell_type": "code",
   "execution_count": 1,
   "metadata": {},
   "outputs": [
    {
     "name": "stdout",
     "output_type": "stream",
     "text": [
      "[((-180, -160), (-60, -40)), ((-180, -160), (-40, -20)), ((-180, -160), (-20, 0)), ((-180, -160), (0, 20)), ((-180, -160), (20, 40)), ((-180, -160), (40, 60)), ((-180, -160), (60, 80)), ((-160, -140), (-60, -40)), ((-160, -140), (-40, -20)), ((-160, -140), (-20, 0)), ((-160, -140), (0, 20)), ((-160, -140), (20, 40)), ((-160, -140), (40, 60)), ((-160, -140), (60, 80)), ((-140, -120), (-60, -40)), ((-140, -120), (-40, -20)), ((-140, -120), (-20, 0)), ((-140, -120), (0, 20)), ((-140, -120), (20, 40)), ((-140, -120), (40, 60)), ((-140, -120), (60, 80)), ((-120, -100), (-60, -40)), ((-120, -100), (-40, -20)), ((-120, -100), (-20, 0)), ((-120, -100), (0, 20)), ((-120, -100), (20, 40)), ((-120, -100), (40, 60)), ((-120, -100), (60, 80)), ((-100, -80), (-60, -40)), ((-100, -80), (-40, -20)), ((-100, -80), (-20, 0)), ((-100, -80), (0, 20)), ((-100, -80), (20, 40)), ((-100, -80), (40, 60)), ((-100, -80), (60, 80)), ((-80, -60), (-60, -40)), ((-80, -60), (-40, -20)), ((-80, -60), (-20, 0)), ((-80, -60), (0, 20)), ((-80, -60), (20, 40)), ((-80, -60), (40, 60)), ((-80, -60), (60, 80)), ((-60, -40), (-60, -40)), ((-60, -40), (-40, -20)), ((-60, -40), (-20, 0)), ((-60, -40), (0, 20)), ((-60, -40), (20, 40)), ((-60, -40), (40, 60)), ((-60, -40), (60, 80)), ((-40, -20), (-60, -40)), ((-40, -20), (-40, -20)), ((-40, -20), (-20, 0)), ((-40, -20), (0, 20)), ((-40, -20), (20, 40)), ((-40, -20), (40, 60)), ((-40, -20), (60, 80)), ((-20, 0), (-60, -40)), ((-20, 0), (-40, -20)), ((-20, 0), (-20, 0)), ((-20, 0), (0, 20)), ((-20, 0), (20, 40)), ((-20, 0), (40, 60)), ((-20, 0), (60, 80)), ((0, 20), (-60, -40)), ((0, 20), (-40, -20)), ((0, 20), (-20, 0)), ((0, 20), (0, 20)), ((0, 20), (20, 40)), ((0, 20), (40, 60)), ((0, 20), (60, 80)), ((20, 40), (-60, -40)), ((20, 40), (-40, -20)), ((20, 40), (-20, 0)), ((20, 40), (0, 20)), ((20, 40), (20, 40)), ((20, 40), (40, 60)), ((20, 40), (60, 80)), ((40, 60), (-60, -40)), ((40, 60), (-40, -20)), ((40, 60), (-20, 0)), ((40, 60), (0, 20)), ((40, 60), (20, 40)), ((40, 60), (40, 60)), ((40, 60), (60, 80)), ((60, 80), (-60, -40)), ((60, 80), (-40, -20)), ((60, 80), (-20, 0)), ((60, 80), (0, 20)), ((60, 80), (20, 40)), ((60, 80), (40, 60)), ((60, 80), (60, 80)), ((80, 100), (-60, -40)), ((80, 100), (-40, -20)), ((80, 100), (-20, 0)), ((80, 100), (0, 20)), ((80, 100), (20, 40)), ((80, 100), (40, 60)), ((80, 100), (60, 80)), ((100, 120), (-60, -40)), ((100, 120), (-40, -20)), ((100, 120), (-20, 0)), ((100, 120), (0, 20)), ((100, 120), (20, 40)), ((100, 120), (40, 60)), ((100, 120), (60, 80)), ((120, 140), (-60, -40)), ((120, 140), (-40, -20)), ((120, 140), (-20, 0)), ((120, 140), (0, 20)), ((120, 140), (20, 40)), ((120, 140), (40, 60)), ((120, 140), (60, 80)), ((140, 160), (-60, -40)), ((140, 160), (-40, -20)), ((140, 160), (-20, 0)), ((140, 160), (0, 20)), ((140, 160), (20, 40)), ((140, 160), (40, 60)), ((140, 160), (60, 80))]\n"
     ]
    }
   ],
   "source": [
    "longitude_pairs = []\n",
    "for lon in range(-180, 160, 20):\n",
    "    longitude_pairs.append((lon, lon + 20))\n",
    "\n",
    "latitude_pairs = []\n",
    "for lat in range(-60, 70, 20):\n",
    "    latitude_pairs.append((lat, lat + 20))\n",
    "\n",
    "\n",
    "latlons = list(product(longitude_pairs, latitude_pairs))\n"
   ]
  },
  {
   "cell_type": "code",
   "execution_count": null,
   "metadata": {},
   "outputs": [],
   "source": [
    "model = pickle.load(open('out/cluster_tuned_model.pkl', 'rb'))\n",
    "data_p = Path('data/swot_filtered.grd')"
   ]
  },
  {
   "cell_type": "code",
   "execution_count": null,
   "metadata": {},
   "outputs": [],
   "source": [
    "redictions = pd.DataFrame(columns=['lon', 'lat', 'z', 'class', 'cluster'])\n",
    "for zone in latlons:\n",
    "    lon = zone[0]\n",
    "    lat = zone[1]\n",
    "    data = SeamountHelp.readAndFilterGRD(data_p, lon, lat).to_dataframe().reset_index()\n",
    "    zone_pred = model.predict(data[['lon', 'lat', 'z']])\n",
    "    predictions = pd.concat([predictions, zone_pred], axis=0)\n",
    "global_predictions = xr.Dataset.from_dataframe(predictions.set_index(['lon', 'lat']))\n",
    "global_predictions.to_netcdf('out/global_predictions.nc')"
   ]
  },
  {
   "cell_type": "code",
   "execution_count": null,
   "metadata": {},
   "outputs": [],
   "source": [
    "mounts = predictions.groupby('cluster').mean().reset_index()\n",
    "kml = simplekml.Kml()\n",
    "for i, row in mounts.iterrows():\n",
    "    kml.newpoint(name=f'{row.cluster}', coords=[(row.lon, row.lat, row.z)])\n",
    "kml.save('out/global_mounts.kml')"
   ]
  },
  {
   "cell_type": "code",
   "execution_count": null,
   "metadata": {
    "vscode": {
     "languageId": "shellscript"
    }
   },
   "outputs": [],
   "source": [
    "! open out/global_mounts.kml"
   ]
  }
 ],
 "metadata": {
  "kernelspec": {
   "display_name": "swot",
   "language": "python",
   "name": "python3"
  },
  "language_info": {
   "codemirror_mode": {
    "name": "ipython",
    "version": 3
   },
   "file_extension": ".py",
   "mimetype": "text/x-python",
   "name": "python",
   "nbconvert_exporter": "python",
   "pygments_lexer": "ipython3",
   "version": "3.10.14"
  }
 },
 "nbformat": 4,
 "nbformat_minor": 2
}
