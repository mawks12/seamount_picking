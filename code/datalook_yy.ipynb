{
 "cells": [
  {
   "cell_type": "code",
   "execution_count": 1,
   "id": "1c4db82e-d1a2-4df2-b4f8-df619ca333fc",
   "metadata": {},
   "outputs": [],
   "source": [
    "import numpy as np\n",
    "import xarray as xr\n",
    "import matplotlib.pyplot as plt\n",
    "import numpy.matlib\n",
    "from matplotlib import cm\n",
    "import netCDF4 as nc\n",
    "import pandas as pd\n",
    "from matplotlib.patches import Rectangle\n",
    "from scipy.stats import chisquare\n",
    "import scipy\n",
    "from gmt_plot import gmt_plot\n",
    "\n",
    "from sklearn.preprocessing import MinMaxScaler\n",
    "from sklearn.preprocessing import RobustScaler\n",
    "from sklearn.model_selection import train_test_split\n",
    "import lightgbm as lgb\n",
    "\n",
    "from datetime import datetime"
   ]
  },
  {
   "cell_type": "markdown",
   "id": "8371bc20-33dd-43b5-8817-91724c477540",
   "metadata": {},
   "source": [
    "### load VGG and gravity\n",
    "* region: -180/180/-80/180\n",
    "* resolution: 1 min\n",
    "* VGG: unit Etovos </br>\n",
    "    * https://topex.ucsd.edu/pub/global_grav_1min/curv.32.1.nc\n",
    "    * gmt grd2xyz curv.32.1.nc > curv.xyz\n",
    "* gravity: unit mGal </br>\n",
    "    * https://topex.ucsd.edu/pub/global_grav_1min/grav.32.1.nc\n",
    "    * gmt grd2xyz curv.32.1.nc > curv.xyz"
   ]
  },
  {
   "cell_type": "code",
   "execution_count": 3,
   "id": "52b1d30e-ca91-4211-944f-7076c1945c96",
   "metadata": {},
   "outputs": [],
   "source": [
    "add = '/Users/seamount_picking/data/'\n",
    "fname = 'curv.xyz'\n",
    "df = pd.read_csv(add + fname, sep='\\t', names=[\"lon\", \"lat\", \"VGG\"])\n",
    "lon = df['lon'].to_numpy()\n",
    "lat = df['lat'].to_numpy()\n",
    "VGG = df['VGG'].to_numpy()\n",
    "\n",
    "fname = 'grav.xyz'\n",
    "df = pd.read_csv(add + fname, sep='\\t', names=[\"lon\", \"lat\", \"gravity\"])\n",
    "gravity = df['gravity'].to_numpy()"
   ]
  },
  {
   "cell_type": "markdown",
   "id": "39e69e5c-76c3-4525-aa4d-06c7cd9c9012",
   "metadata": {},
   "source": [
    "### load SID and bathymetry"
   ]
  },
  {
   "cell_type": "code",
   "execution_count": null,
   "id": "3ec15d5a-d5ca-4210-a8d0-4620a51ef1de",
   "metadata": {},
   "outputs": [],
   "source": []
  },
  {
   "cell_type": "code",
   "execution_count": null,
   "id": "90633606-dd8e-494d-b41f-a65d5a080bee",
   "metadata": {},
   "outputs": [],
   "source": []
  },
  {
   "cell_type": "code",
   "execution_count": null,
   "id": "6dd46741-b9b4-4439-be48-6f6c6e6df79d",
   "metadata": {},
   "outputs": [],
   "source": []
  },
  {
   "cell_type": "code",
   "execution_count": null,
   "id": "dffec0d4-face-4039-bb8a-8743388e9e61",
   "metadata": {},
   "outputs": [],
   "source": []
  },
  {
   "cell_type": "markdown",
   "id": "ff341f2a-a47e-4261-bd5e-df1b0076d2df",
   "metadata": {},
   "source": [
    "### create labels\n",
    "* 0: ocean\n",
    "* 1: center of seamounts\n",
    "* 2: within radius of a seamount"
   ]
  },
  {
   "cell_type": "code",
   "execution_count": null,
   "id": "1dc62073-2e80-4b03-90a8-4cadb773b51a",
   "metadata": {},
   "outputs": [],
   "source": [
    "points = pd.read_excel('../data/sample_mask.txt.xlsx')"
   ]
  },
  {
   "cell_type": "code",
   "execution_count": null,
   "id": "1ec0aa7e-54ab-48da-910a-9ce9a856df44",
   "metadata": {},
   "outputs": [],
   "source": []
  },
  {
   "cell_type": "markdown",
   "id": "1d35eba3-8030-4624-ac5a-94fa41c451cf",
   "metadata": {},
   "source": [
    "### store everything in pandas dataframe"
   ]
  },
  {
   "cell_type": "code",
   "execution_count": null,
   "id": "8e6ce6d9-17f0-41b3-a9f6-a70a51f71101",
   "metadata": {},
   "outputs": [],
   "source": [
    "df_origin = pd.DataFrame({'lon': lon.flatten(),\n",
    "                   'lat': lat.flatten(),\n",
    "                   'VGG': VGG.flatten(),\n",
    "                   'gravity': gravity.flatten(),\n",
    "                  })"
   ]
  },
  {
   "cell_type": "markdown",
   "id": "5ea5ade4-d0a1-4782-bfcc-2c3c3446ccb1",
   "metadata": {},
   "source": [
    "### exclude land and ridges"
   ]
  },
  {
   "cell_type": "code",
   "execution_count": null,
   "id": "9f86d212-e75f-4dfb-a2d9-e2f551b3f761",
   "metadata": {},
   "outputs": [],
   "source": []
  },
  {
   "cell_type": "markdown",
   "id": "08c92036-2e0e-4a89-b2f2-b62be3d99639",
   "metadata": {},
   "source": [
    "### normalize features"
   ]
  },
  {
   "cell_type": "code",
   "execution_count": null,
   "id": "ec9d0cbd-48c2-4d43-8100-456942ed91d7",
   "metadata": {},
   "outputs": [],
   "source": []
  },
  {
   "cell_type": "code",
   "execution_count": null,
   "id": "10e3b869-4678-41a8-91d3-d448760dc1a8",
   "metadata": {},
   "outputs": [],
   "source": []
  },
  {
   "cell_type": "markdown",
   "id": "2e1d1e16-dbff-4e52-a084-7921543bdd18",
   "metadata": {},
   "source": [
    "### select training, validation, and test datasets"
   ]
  },
  {
   "cell_type": "code",
   "execution_count": null,
   "id": "65c2aa7b-4f40-438f-b730-2ca97feafab3",
   "metadata": {},
   "outputs": [],
   "source": []
  },
  {
   "cell_type": "code",
   "execution_count": null,
   "id": "94ed69fa-b2f0-4a37-aef3-fff3666bfbfe",
   "metadata": {},
   "outputs": [],
   "source": []
  }
 ],
 "metadata": {
  "kernelspec": {
   "display_name": "Python 3 (ipykernel)",
   "language": "python",
   "name": "python3"
  },
  "language_info": {
   "codemirror_mode": {
    "name": "ipython",
    "version": 3
   },
   "file_extension": ".py",
   "mimetype": "text/x-python",
   "name": "python",
   "nbconvert_exporter": "python",
   "pygments_lexer": "ipython3",
   "version": "3.9.6"
  }
 },
 "nbformat": 4,
 "nbformat_minor": 5
}
