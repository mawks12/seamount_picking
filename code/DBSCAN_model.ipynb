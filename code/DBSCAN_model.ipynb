{
 "cells": [
  {
   "cell_type": "code",
   "execution_count": 1,
   "metadata": {},
   "outputs": [],
   "source": [
    "import pandas as pd\n",
    "import numpy as np\n",
    "import plotly.express as px\n",
    "from DBSCANSupport import DBSCANSupport\n",
    "from LocalPath import LOCALPATH\n",
    "from sklearn.cluster import DBSCAN"
   ]
  },
  {
   "cell_type": "code",
   "execution_count": 2,
   "metadata": {},
   "outputs": [],
   "source": [
    "grav = pd.read_csv(LOCALPATH + 'data/test_grav.csv').drop(columns=[\"old_ind\"])\n",
    "grav = grav[['Longitude', 'Latitude', 'Intensity']]"
   ]
  },
  {
   "cell_type": "code",
   "execution_count": 3,
   "metadata": {},
   "outputs": [
    {
     "name": "stderr",
     "output_type": "stream",
     "text": [
      "/Users/seamount_picking_stable/seamount_picking/code/_SeamountSupport.py:264: SettingWithCopyWarning: \n",
      "A value is trying to be set on a copy of a slice from a DataFrame.\n",
      "Try using .loc[row_indexer,col_indexer] = value instead\n",
      "\n",
      "See the caveats in the documentation: https://pandas.pydata.org/pandas-docs/stable/user_guide/indexing.html#returning-a-view-versus-a-copy\n",
      "  data[\"TrueSeamount\"] = np.zeros(data.shape[0])\n"
     ]
    }
   ],
   "source": [
    "Z = DBSCANSupport.formatData(grav, 'Intensity')\n",
    "#Z = Z[(Z[:, 2] > -20) & (Z[:, 2] < 7)]\n",
    "data = Z"
   ]
  },
  {
   "cell_type": "code",
   "execution_count": 4,
   "metadata": {},
   "outputs": [],
   "source": [
    "## Elbow test\n",
    "from sklearn.neighbors import NearestNeighbors\n",
    "from matplotlib import pyplot as plt\n",
    "neighbors = NearestNeighbors(n_neighbors=20)\n",
    "neighbors_fit = neighbors.fit(data)\n",
    "distances, indices = neighbors_fit.kneighbors(data)\n",
    "distances = np.sort(distances, axis=0)\n",
    "distances = distances[:,1]\n",
    "elbow = px.scatter(x=range(0, len(distances)), y=distances)#.show()"
   ]
  },
  {
   "cell_type": "code",
   "execution_count": 5,
   "metadata": {},
   "outputs": [],
   "source": [
    "test_eps = np.linspace(0.1, 0.5, 20)\n",
    "test_samp = np.arange(2, 10)\n",
    "DBModel_test = DBSCANSupport(LOCALPATH+\"data/sample_mask.txt.xlsx\", train_zone=(-6, -1.5, -98, -90))\n",
    "DBModel_test.addTrainingData(data)"
   ]
  },
  {
   "cell_type": "code",
   "execution_count": 6,
   "metadata": {},
   "outputs": [
    {
     "name": "stdout",
     "output_type": "stream",
     "text": [
      "Score for 0.1 and 2 is -7.337748344370861 with 198 clusters\n",
      "Score for 0.1 and 3 is -7.337748344370861 with 145 clusters\n",
      "Score for 0.1 and 4 is -7.456953642384106 with 122 clusters\n",
      "Score for 0.1 and 5 is -5.629139072847682 with 113 clusters\n",
      "Score for 0.1 and 6 is -5.423841059602649 with 96 clusters\n",
      "Score for 0.1 and 7 is -5.258278145695364 with 86 clusters\n",
      "Score for 0.1 and 8 is -4.516556291390729 with 71 clusters\n",
      "Score for 0.1 and 9 is -4.066225165562914 with 59 clusters\n",
      "Score for 0.12105263157894737 and 2 is -4.52317880794702 with 120 clusters\n",
      "Score for 0.12105263157894737 and 3 is -4.52317880794702 with 85 clusters\n",
      "Score for 0.12105263157894737 and 4 is -4.629139072847682 with 78 clusters\n",
      "Score for 0.12105263157894737 and 5 is -5.013245033112582 with 66 clusters\n",
      "Score for 0.12105263157894737 and 6 is -3.0728476821192054 with 56 clusters\n",
      "Score for 0.12105263157894737 and 7 is -2.9536423841059603 with 49 clusters\n",
      "Score for 0.12105263157894737 and 8 is -3.3642384105960264 with 50 clusters\n",
      "Score for 0.12105263157894737 and 9 is -3.3112582781456954 with 47 clusters\n",
      "Score for 0.14210526315789473 and 2 is -3.0397350993377485 with 73 clusters\n",
      "Score for 0.14210526315789473 and 3 is -3.0397350993377485 with 52 clusters\n"
     ]
    }
   ],
   "source": [
    "score, params, data_out  = DBModel_test.gridSearch(test_eps, test_samp, verbose=True)"
   ]
  },
  {
   "cell_type": "code",
   "execution_count": null,
   "metadata": {},
   "outputs": [],
   "source": [
    "dfout = pd.DataFrame(data_out, columns=[\"Lat\", \"Lon\", \"Label\", \"Intensity\", \"TrueLabel\"])\n",
    "df_labeled = dfout[dfout['Label'] != 0]"
   ]
  },
  {
   "cell_type": "code",
   "execution_count": null,
   "metadata": {},
   "outputs": [],
   "source": [
    "fig = px.scatter(df_labeled, x=\"Lon\", y=\"Lat\", color=\"Label\")\n",
    "fig.show()"
   ]
  },
  {
   "cell_type": "code",
   "execution_count": null,
   "metadata": {},
   "outputs": [],
   "source": [
    "fig2 = px.scatter(dfout, x=\"Lon\", y=\"Lat\", color=\"TrueLabel\")\n",
    "fig2.update_xaxes(\n",
    "    scaleanchor=\"y\",\n",
    "    scaleratio=1,\n",
    "  )"
   ]
  },
  {
   "cell_type": "code",
   "execution_count": null,
   "metadata": {},
   "outputs": [],
   "source": [
    "with open(LOCALPATH + \"out/best.txt\", \"a\") as f:\n",
    "    f.write(\"Score: \" + str(score) + \"\\n\")\n",
    "    f.write(\"Params: \" + str(params) + \"\\n\")\n",
    "DBModel_test.matchPoints().to_csv(LOCALPATH + \"out/matched.csv\", index=False)\n",
    "dfout.to_csv(LOCALPATH + \"out/labels.csv\", index=False)\n"
   ]
  },
  {
   "cell_type": "code",
   "execution_count": null,
   "metadata": {},
   "outputs": [],
   "source": []
  },
  {
   "cell_type": "code",
   "execution_count": null,
   "metadata": {},
   "outputs": [],
   "source": []
  }
 ],
 "metadata": {
  "kernelspec": {
   "display_name": "swot",
   "language": "python",
   "name": "python3"
  },
  "language_info": {
   "codemirror_mode": {
    "name": "ipython",
    "version": 3
   },
   "file_extension": ".py",
   "mimetype": "text/x-python",
   "name": "python",
   "nbconvert_exporter": "python",
   "pygments_lexer": "ipython3",
   "version": "3.11.5"
  }
 },
 "nbformat": 4,
 "nbformat_minor": 2
}
