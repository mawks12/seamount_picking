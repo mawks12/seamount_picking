{
 "cells": [
  {
   "cell_type": "code",
   "execution_count": 1,
   "metadata": {},
   "outputs": [],
   "source": [
    "import pandas as pd\n",
    "import numpy as np\n",
    "import plotly.express as px\n",
    "from DBSCANSupport import DBSCANSupport\n",
    "from LocalPath import LOCALPATH\n",
    "from sklearn.cluster import DBSCAN"
   ]
  },
  {
   "cell_type": "code",
   "execution_count": 2,
   "metadata": {},
   "outputs": [],
   "source": [
    "grav = pd.read_csv(LOCALPATH + 'data/test_grav.csv').drop(columns=[\"old_ind\"])\n",
    "grav = grav[['Longitude', 'Latitude', 'Intensity']]"
   ]
  },
  {
   "cell_type": "code",
   "execution_count": 3,
   "metadata": {},
   "outputs": [
    {
     "name": "stderr",
     "output_type": "stream",
     "text": [
      "/Users/seamount_picking_stable/seamount_picking/code/_SeamountSupport.py:264: SettingWithCopyWarning: \n",
      "A value is trying to be set on a copy of a slice from a DataFrame.\n",
      "Try using .loc[row_indexer,col_indexer] = value instead\n",
      "\n",
      "See the caveats in the documentation: https://pandas.pydata.org/pandas-docs/stable/user_guide/indexing.html#returning-a-view-versus-a-copy\n",
      "  data[\"TrueSeamount\"] = np.zeros(data.shape[0])\n"
     ]
    }
   ],
   "source": [
    "Z = DBSCANSupport.formatData(grav, 'Intensity')\n",
    "#Z = Z[(Z[:, 2] > -20) & (Z[:, 2] < 7)]\n",
    "data = Z"
   ]
  },
  {
   "cell_type": "code",
   "execution_count": 4,
   "metadata": {},
   "outputs": [],
   "source": [
    "## Elbow test\n",
    "from sklearn.neighbors import NearestNeighbors\n",
    "from matplotlib import pyplot as plt\n",
    "neighbors = NearestNeighbors(n_neighbors=20)\n",
    "neighbors_fit = neighbors.fit(data)\n",
    "distances, indices = neighbors_fit.kneighbors(data)\n",
    "distances = np.sort(distances, axis=0)\n",
    "distances = distances[:,1]\n",
    "elbow = px.scatter(x=range(0, len(distances)), y=distances)#.show()"
   ]
  },
  {
   "cell_type": "code",
   "execution_count": 5,
   "metadata": {},
   "outputs": [],
   "source": [
    "test_eps = np.linspace(0.1, 0.25, 20)\n",
    "test_samp = np.arange(2, 7)\n",
    "DBModel_test = DBSCANSupport(LOCALPATH+\"data/sample_mask.txt.xlsx\", train_zone=(-6, -1.5, -98, -90))\n",
    "DBModel_test.addTrainingData(data)"
   ]
  },
  {
   "cell_type": "code",
   "execution_count": null,
   "metadata": {},
   "outputs": [],
   "source": [
    "score, params, data_out  = DBModel_test.gridSearch(test_eps, test_samp, verbose=True)"
   ]
  },
  {
   "cell_type": "code",
   "execution_count": null,
   "metadata": {},
   "outputs": [],
   "source": [
    "dfout = pd.DataFrame(data_out, columns=[\"Easting\", \"Northing\", \"Label\", \"Intensity\"])\n",
    "df_labeled = dfout[dfout['Label'] == 1]"
   ]
  },
  {
   "cell_type": "code",
   "execution_count": null,
   "metadata": {},
   "outputs": [],
   "source": [
    "fig = px.scatter(df_labeled, x=\"Easting\", y=\"Northing\", color=\"Label\")\n",
    "fig.show()"
   ]
  },
  {
   "cell_type": "code",
   "execution_count": null,
   "metadata": {},
   "outputs": [],
   "source": [
    "fig2 = px.scatter(dfout, x=\"Easting\", y=\"Northing\", color=\"True_Seamount\")\n",
    "fig2.update_xaxes(\n",
    "    scaleanchor=\"y\",\n",
    "    scaleratio=1,\n",
    "  )"
   ]
  },
  {
   "cell_type": "code",
   "execution_count": null,
   "metadata": {},
   "outputs": [],
   "source": [
    "with open(LOCALPATH + \"out/best.txt\", \"w\") as f:\n",
    "    f.write(\"Score: \" + str(score) + \"\\n\")\n",
    "    f.write(\"Params: \" + str(params) + \"\\n\")\n",
    "DBModel_test.matchPoints().to_csv(LOCALPATH + \"out/matched.csv\", index=False)\n",
    "dfout.to_csv(LOCALPATH + \"out/labels.csv\", index=False)\n"
   ]
  }
 ],
 "metadata": {
  "kernelspec": {
   "display_name": "swot",
   "language": "python",
   "name": "python3"
  },
  "language_info": {
   "codemirror_mode": {
    "name": "ipython",
    "version": 3
   },
   "file_extension": ".py",
   "mimetype": "text/x-python",
   "name": "python",
   "nbconvert_exporter": "python",
   "pygments_lexer": "ipython3",
   "version": "3.11.5"
  }
 },
 "nbformat": 4,
 "nbformat_minor": 2
}
