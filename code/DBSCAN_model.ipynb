{
 "cells": [
  {
   "cell_type": "code",
   "execution_count": null,
   "metadata": {},
   "outputs": [],
   "source": [
    "import pandas as pd\n",
    "import numpy as np\n",
    "import plotly.express as px\n",
    "from DBSCANSupport import DBSCANSupport\n",
    "from LocalPath import LOCALPATH\n",
    "from sklearn.neighbors import NearestNeighbors"
   ]
  },
  {
   "cell_type": "markdown",
   "metadata": {},
   "source": [
    "Load gravity data"
   ]
  },
  {
   "cell_type": "code",
   "execution_count": null,
   "metadata": {},
   "outputs": [],
   "source": [
    "grav = pd.read_csv(LOCALPATH + 'data/test_grav.csv').drop(columns=[\"old_ind\"])\n",
    "grav = grav[['Latitude', 'Longitude', 'Intensity']]"
   ]
  },
  {
   "cell_type": "code",
   "execution_count": null,
   "metadata": {},
   "outputs": [],
   "source": [
    "lat = list(grav['Latitude'])\n",
    "longg = list(grav['Longitude'])\n",
    "inten = list(grav['Intensity'])\n",
    "#fig.show()"
   ]
  },
  {
   "cell_type": "code",
   "execution_count": null,
   "metadata": {},
   "outputs": [],
   "source": [
    "Z = DBSCANSupport.formatData(grav, 'Intensity')\n",
    "data = Z"
   ]
  },
  {
   "cell_type": "code",
   "execution_count": null,
   "metadata": {},
   "outputs": [],
   "source": [
    "neighbors = NearestNeighbors(n_neighbors=2)\n",
    "neighbors_fit = neighbors.fit(grav.to_numpy())\n",
    "distances, indices = neighbors_fit.kneighbors(data)\n",
    "distances = np.sort(distances, axis=0)\n",
    "distances = distances[:,1]\n",
    "px.line(x=range(0, len(distances)), y=distances).show()"
   ]
  },
  {
   "cell_type": "code",
   "execution_count": null,
   "metadata": {},
   "outputs": [],
   "source": [
    "test_eps = np.linspace(1840, 1850, 20)\n",
    "test_samp = np.arange(2, 10)\n",
    "DBModel_test = DBSCANSupport(LOCALPATH+\"data/sample_mask.txt.xlsx\", train_zone=(-6, -1.5, -98, -90))\n",
    "validator = DBModel_test.seamounts"
   ]
  },
  {
   "cell_type": "code",
   "execution_count": null,
   "metadata": {},
   "outputs": [],
   "source": [
    "score, params, data_out  = DBModel_test.gridSearch(test_eps, test_samp, data, test='auto', verbose=True)"
   ]
  },
  {
   "cell_type": "code",
   "execution_count": null,
   "metadata": {},
   "outputs": [],
   "source": [
    "dfout = pd.DataFrame(data_out, columns=[\"Easting\", \"Northing\", \"Label\", \"Intensity\"])\n",
    "DBModel_test.matchPoints(dfout)\n",
    "df_labeled = dfout[dfout['Label'] == -1]"
   ]
  },
  {
   "cell_type": "code",
   "execution_count": null,
   "metadata": {},
   "outputs": [],
   "source": [
    "fig = px.scatter(dfout, x=\"Easting\", y=\"Northing\", color=\"Label\")\n",
    "fig.show()"
   ]
  },
  {
   "cell_type": "code",
   "execution_count": null,
   "metadata": {},
   "outputs": [],
   "source": [
    "test_zone=(-6, -1.5, -98, -90)\n",
    "seamounts = DBModel_test.seamounts\n",
    "fig3 = px.scatter(x=seamounts[:, 0], y=seamounts[:, 1])\n",
    "fig3.show()"
   ]
  },
  {
   "cell_type": "code",
   "execution_count": null,
   "metadata": {},
   "outputs": [],
   "source": [
    "fig = px.scatter(df_labeled, x=\"Easting\", y=\"Northing\", color=\"True_Seamount\")\n",
    "fig.add_trace(px.scatter(x=seamounts[:, 0], y=seamounts[:, 1]).data[0])\n",
    "fig.update_xaxes(\n",
    "    scaleanchor=\"y\",\n",
    "    scaleratio=1,\n",
    "  )\n",
    "fig.show()"
   ]
  },
  {
   "cell_type": "code",
   "execution_count": null,
   "metadata": {},
   "outputs": [],
   "source": [
    "fig2 = px.scatter(dfout, x=\"Easting\", y=\"Northing\", color=\"True_Seamount\")\n",
    "fig2.update_xaxes(\n",
    "    scaleanchor=\"y\",\n",
    "    scaleratio=1,\n",
    "  )"
   ]
  },
  {
   "cell_type": "code",
   "execution_count": null,
   "metadata": {},
   "outputs": [],
   "source": [
    "params"
   ]
  }
 ],
 "metadata": {
  "kernelspec": {
   "display_name": "swot",
   "language": "python",
   "name": "python3"
  },
  "language_info": {
   "codemirror_mode": {
    "name": "ipython",
    "version": 3
   },
   "file_extension": ".py",
   "mimetype": "text/x-python",
   "name": "python",
   "nbconvert_exporter": "python",
   "pygments_lexer": "ipython3",
   "version": "3.11.5"
  }
 },
 "nbformat": 4,
 "nbformat_minor": 2
}
