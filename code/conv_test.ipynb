{
 "cells": [
  {
   "cell_type": "code",
   "execution_count": 1,
   "metadata": {},
   "outputs": [
    {
     "name": "stderr",
     "output_type": "stream",
     "text": [
      "dyld[81979]: Library not loaded: '@rpath/libtiff.5.dylib'\n",
      "  Referenced from: '/Users/m1hawks/miniconda3/lib/libpoppler.126.0.0.dylib'\n",
      "  Reason: tried: '/Users/m1hawks/miniconda3/lib/libtiff.5.dylib' (no such file), '/Users/m1hawks/miniconda3/lib/libtiff.5.dylib' (no such file), '/Users/m1hawks/miniconda3/lib/libtiff.5.dylib' (no such file), '/Users/m1hawks/miniconda3/bin/../lib/libtiff.5.dylib' (no such file), '/Users/m1hawks/miniconda3/bin/../lib/libtiff.5.dylib' (no such file), '/usr/local/lib/libtiff.5.dylib' (no such file), '/usr/lib/libtiff.5.dylib' (no such file)\n"
     ]
    },
    {
     "ename": "GMTCLibNotFoundError",
     "evalue": "Error loading GMT shared library at 'libgmt.dylib'.\ndlopen(libgmt.dylib, 0x0006): Library not loaded: '@rpath/libtiff.5.dylib'\n  Referenced from: '/Users/m1hawks/miniconda3/lib/libpoppler.126.0.0.dylib'\n  Reason: tried: '/Users/m1hawks/miniconda3/lib/libtiff.5.dylib' (no such file), '/Users/m1hawks/miniconda3/lib/libtiff.5.dylib' (no such file), '/Users/m1hawks/miniconda3/lib/libtiff.5.dylib' (no such file), '/Users/m1hawks/miniconda3/lib/libtiff.5.dylib' (no such file), '/Users/m1hawks/miniconda3/lib/python3.11/lib-dynload/../../libtiff.5.dylib' (no such file), '/Users/m1hawks/miniconda3/bin/../lib/libtiff.5.dylib' (no such file), '/usr/local/lib/libtiff.5.dylib' (no such file), '/usr/lib/libtiff.5.dylib' (no such file)",
     "output_type": "error",
     "traceback": [
      "\u001b[0;31m---------------------------------------------------------------------------\u001b[0m",
      "\u001b[0;31mGMTCLibNotFoundError\u001b[0m                      Traceback (most recent call last)",
      "Cell \u001b[0;32mIn[1], line 6\u001b[0m\n\u001b[1;32m      4\u001b[0m \u001b[38;5;28;01mfrom\u001b[39;00m \u001b[38;5;21;01mSeamountHelp\u001b[39;00m \u001b[38;5;28;01mimport\u001b[39;00m readCroppedxyz\n\u001b[1;32m      5\u001b[0m \u001b[38;5;28;01mfrom\u001b[39;00m \u001b[38;5;21;01mscipy\u001b[39;00m\u001b[38;5;21;01m.\u001b[39;00m\u001b[38;5;21;01msignal\u001b[39;00m \u001b[38;5;28;01mimport\u001b[39;00m convolve2d, convolve, choose_conv_method\n\u001b[0;32m----> 6\u001b[0m \u001b[38;5;28;01mimport\u001b[39;00m \u001b[38;5;21;01mpygmt\u001b[39;00m\n\u001b[1;32m      7\u001b[0m data \u001b[38;5;241m=\u001b[39m Path(\u001b[38;5;124m'\u001b[39m\u001b[38;5;124mdata\u001b[39m\u001b[38;5;124m'\u001b[39m)\n",
      "File \u001b[0;32m~/miniconda3/lib/python3.11/site-packages/pygmt/__init__.py:30\u001b[0m\n\u001b[1;32m     27\u001b[0m __commit__ \u001b[38;5;241m=\u001b[39m __version__\u001b[38;5;241m.\u001b[39msplit(\u001b[38;5;124m\"\u001b[39m\u001b[38;5;124m+g\u001b[39m\u001b[38;5;124m\"\u001b[39m)[\u001b[38;5;241m-\u001b[39m\u001b[38;5;241m1\u001b[39m] \u001b[38;5;28;01mif\u001b[39;00m \u001b[38;5;124m\"\u001b[39m\u001b[38;5;124m+g\u001b[39m\u001b[38;5;124m\"\u001b[39m \u001b[38;5;129;01min\u001b[39;00m __version__ \u001b[38;5;28;01melse\u001b[39;00m \u001b[38;5;124m\"\u001b[39m\u001b[38;5;124m\"\u001b[39m  \u001b[38;5;66;03m# 0ab3cd78\u001b[39;00m\n\u001b[1;32m     29\u001b[0m \u001b[38;5;66;03m# Import modules to make the high-level GMT Python API\u001b[39;00m\n\u001b[0;32m---> 30\u001b[0m \u001b[38;5;28;01mfrom\u001b[39;00m \u001b[38;5;21;01mpygmt\u001b[39;00m \u001b[38;5;28;01mimport\u001b[39;00m datasets\n\u001b[1;32m     31\u001b[0m \u001b[38;5;28;01mfrom\u001b[39;00m \u001b[38;5;21;01mpygmt\u001b[39;00m\u001b[38;5;21;01m.\u001b[39;00m\u001b[38;5;21;01maccessors\u001b[39;00m \u001b[38;5;28;01mimport\u001b[39;00m GMTDataArrayAccessor\n\u001b[1;32m     32\u001b[0m \u001b[38;5;28;01mfrom\u001b[39;00m \u001b[38;5;21;01mpygmt\u001b[39;00m\u001b[38;5;21;01m.\u001b[39;00m\u001b[38;5;21;01mfigure\u001b[39;00m \u001b[38;5;28;01mimport\u001b[39;00m Figure, set_display\n",
      "File \u001b[0;32m~/miniconda3/lib/python3.11/site-packages/pygmt/datasets/__init__.py:7\u001b[0m\n\u001b[1;32m      1\u001b[0m \u001b[38;5;124;03m\"\"\"\u001b[39;00m\n\u001b[1;32m      2\u001b[0m \u001b[38;5;124;03mFunctions to load GMT remote data and sample data.\u001b[39;00m\n\u001b[1;32m      3\u001b[0m \n\u001b[1;32m      4\u001b[0m \u001b[38;5;124;03mData are downloaded from the GMT data server.\u001b[39;00m\n\u001b[1;32m      5\u001b[0m \u001b[38;5;124;03m\"\"\"\u001b[39;00m\n\u001b[0;32m----> 7\u001b[0m \u001b[38;5;28;01mfrom\u001b[39;00m \u001b[38;5;21;01mpygmt\u001b[39;00m\u001b[38;5;21;01m.\u001b[39;00m\u001b[38;5;21;01mdatasets\u001b[39;00m\u001b[38;5;21;01m.\u001b[39;00m\u001b[38;5;21;01mearth_age\u001b[39;00m \u001b[38;5;28;01mimport\u001b[39;00m load_earth_age\n\u001b[1;32m      8\u001b[0m \u001b[38;5;28;01mfrom\u001b[39;00m \u001b[38;5;21;01mpygmt\u001b[39;00m\u001b[38;5;21;01m.\u001b[39;00m\u001b[38;5;21;01mdatasets\u001b[39;00m\u001b[38;5;21;01m.\u001b[39;00m\u001b[38;5;21;01mearth_free_air_anomaly\u001b[39;00m \u001b[38;5;28;01mimport\u001b[39;00m load_earth_free_air_anomaly\n\u001b[1;32m      9\u001b[0m \u001b[38;5;28;01mfrom\u001b[39;00m \u001b[38;5;21;01mpygmt\u001b[39;00m\u001b[38;5;21;01m.\u001b[39;00m\u001b[38;5;21;01mdatasets\u001b[39;00m\u001b[38;5;21;01m.\u001b[39;00m\u001b[38;5;21;01mearth_geoid\u001b[39;00m \u001b[38;5;28;01mimport\u001b[39;00m load_earth_geoid\n",
      "File \u001b[0;32m~/miniconda3/lib/python3.11/site-packages/pygmt/datasets/earth_age.py:10\u001b[0m\n\u001b[1;32m      1\u001b[0m \u001b[38;5;124;03m\"\"\"\u001b[39;00m\n\u001b[1;32m      2\u001b[0m \u001b[38;5;124;03mFunction to download the Earth seafloor crustal age dataset from the GMT data server,\u001b[39;00m\n\u001b[1;32m      3\u001b[0m \u001b[38;5;124;03mand load as :class:`xarray.DataArray`.\u001b[39;00m\n\u001b[1;32m      4\u001b[0m \n\u001b[1;32m      5\u001b[0m \u001b[38;5;124;03mThe grids are available in various resolutions.\u001b[39;00m\n\u001b[1;32m      6\u001b[0m \u001b[38;5;124;03m\"\"\"\u001b[39;00m\n\u001b[1;32m      8\u001b[0m \u001b[38;5;28;01mfrom\u001b[39;00m \u001b[38;5;21;01mtyping\u001b[39;00m \u001b[38;5;28;01mimport\u001b[39;00m Literal\n\u001b[0;32m---> 10\u001b[0m \u001b[38;5;28;01mfrom\u001b[39;00m \u001b[38;5;21;01mpygmt\u001b[39;00m\u001b[38;5;21;01m.\u001b[39;00m\u001b[38;5;21;01mdatasets\u001b[39;00m\u001b[38;5;21;01m.\u001b[39;00m\u001b[38;5;21;01mload_remote_dataset\u001b[39;00m \u001b[38;5;28;01mimport\u001b[39;00m _load_remote_dataset\n\u001b[1;32m     11\u001b[0m \u001b[38;5;28;01mfrom\u001b[39;00m \u001b[38;5;21;01mpygmt\u001b[39;00m\u001b[38;5;21;01m.\u001b[39;00m\u001b[38;5;21;01mhelpers\u001b[39;00m \u001b[38;5;28;01mimport\u001b[39;00m kwargs_to_strings\n\u001b[1;32m     13\u001b[0m __doctest_skip__ \u001b[38;5;241m=\u001b[39m [\u001b[38;5;124m\"\u001b[39m\u001b[38;5;124mload_earth_age\u001b[39m\u001b[38;5;124m\"\u001b[39m]\n",
      "File \u001b[0;32m~/miniconda3/lib/python3.11/site-packages/pygmt/datasets/load_remote_dataset.py:9\u001b[0m\n\u001b[1;32m      5\u001b[0m \u001b[38;5;28;01mfrom\u001b[39;00m \u001b[38;5;21;01m__future__\u001b[39;00m \u001b[38;5;28;01mimport\u001b[39;00m annotations\n\u001b[1;32m      7\u001b[0m \u001b[38;5;28;01mfrom\u001b[39;00m \u001b[38;5;21;01mtyping\u001b[39;00m \u001b[38;5;28;01mimport\u001b[39;00m TYPE_CHECKING, ClassVar, Literal, NamedTuple\n\u001b[0;32m----> 9\u001b[0m \u001b[38;5;28;01mfrom\u001b[39;00m \u001b[38;5;21;01mpygmt\u001b[39;00m\u001b[38;5;21;01m.\u001b[39;00m\u001b[38;5;21;01mclib\u001b[39;00m \u001b[38;5;28;01mimport\u001b[39;00m Session\n\u001b[1;32m     10\u001b[0m \u001b[38;5;28;01mfrom\u001b[39;00m \u001b[38;5;21;01mpygmt\u001b[39;00m\u001b[38;5;21;01m.\u001b[39;00m\u001b[38;5;21;01mexceptions\u001b[39;00m \u001b[38;5;28;01mimport\u001b[39;00m GMTInvalidInput\n\u001b[1;32m     11\u001b[0m \u001b[38;5;28;01mfrom\u001b[39;00m \u001b[38;5;21;01mpygmt\u001b[39;00m\u001b[38;5;21;01m.\u001b[39;00m\u001b[38;5;21;01mhelpers\u001b[39;00m \u001b[38;5;28;01mimport\u001b[39;00m build_arg_list, kwargs_to_strings\n",
      "File \u001b[0;32m~/miniconda3/lib/python3.11/site-packages/pygmt/clib/__init__.py:8\u001b[0m\n\u001b[1;32m      1\u001b[0m \u001b[38;5;124;03m\"\"\"\u001b[39;00m\n\u001b[1;32m      2\u001b[0m \u001b[38;5;124;03mLow-level wrapper for the GMT C API.\u001b[39;00m\n\u001b[1;32m      3\u001b[0m \n\u001b[1;32m      4\u001b[0m \u001b[38;5;124;03mThe pygmt.clib.Session class wraps the GMT C shared library (libgmt) with a Pythonic\u001b[39;00m\n\u001b[1;32m      5\u001b[0m \u001b[38;5;124;03minterface. Access to the C library is done through ctypes.\u001b[39;00m\n\u001b[1;32m      6\u001b[0m \u001b[38;5;124;03m\"\"\"\u001b[39;00m\n\u001b[0;32m----> 8\u001b[0m \u001b[38;5;28;01mfrom\u001b[39;00m \u001b[38;5;21;01mpygmt\u001b[39;00m\u001b[38;5;21;01m.\u001b[39;00m\u001b[38;5;21;01mclib\u001b[39;00m\u001b[38;5;21;01m.\u001b[39;00m\u001b[38;5;21;01msession\u001b[39;00m \u001b[38;5;28;01mimport\u001b[39;00m Session\n\u001b[1;32m     10\u001b[0m \u001b[38;5;28;01mwith\u001b[39;00m Session() \u001b[38;5;28;01mas\u001b[39;00m lib:\n\u001b[1;32m     11\u001b[0m     __gmt_version__ \u001b[38;5;241m=\u001b[39m lib\u001b[38;5;241m.\u001b[39minfo[\u001b[38;5;124m\"\u001b[39m\u001b[38;5;124mversion\u001b[39m\u001b[38;5;124m\"\u001b[39m]\n",
      "File \u001b[0;32m~/miniconda3/lib/python3.11/site-packages/pygmt/clib/session.py:97\u001b[0m\n\u001b[1;32m     80\u001b[0m DTYPES \u001b[38;5;241m=\u001b[39m {\n\u001b[1;32m     81\u001b[0m     np\u001b[38;5;241m.\u001b[39mint8: \u001b[38;5;124m\"\u001b[39m\u001b[38;5;124mGMT_CHAR\u001b[39m\u001b[38;5;124m\"\u001b[39m,\n\u001b[1;32m     82\u001b[0m     np\u001b[38;5;241m.\u001b[39mint16: \u001b[38;5;124m\"\u001b[39m\u001b[38;5;124mGMT_SHORT\u001b[39m\u001b[38;5;124m\"\u001b[39m,\n\u001b[0;32m   (...)\u001b[0m\n\u001b[1;32m     93\u001b[0m     np\u001b[38;5;241m.\u001b[39mtimedelta64: \u001b[38;5;124m\"\u001b[39m\u001b[38;5;124mGMT_LONG\u001b[39m\u001b[38;5;124m\"\u001b[39m,\n\u001b[1;32m     94\u001b[0m }\n\u001b[1;32m     96\u001b[0m \u001b[38;5;66;03m# Load the GMT library outside the Session class to avoid repeated loading.\u001b[39;00m\n\u001b[0;32m---> 97\u001b[0m _libgmt \u001b[38;5;241m=\u001b[39m load_libgmt()\n\u001b[1;32m    100\u001b[0m \u001b[38;5;28;01mclass\u001b[39;00m \u001b[38;5;21;01mSession\u001b[39;00m:\n\u001b[1;32m    101\u001b[0m \u001b[38;5;250m    \u001b[39m\u001b[38;5;124;03m\"\"\"\u001b[39;00m\n\u001b[1;32m    102\u001b[0m \u001b[38;5;124;03m    A GMT API session where most operations involving the C API happen.\u001b[39;00m\n\u001b[1;32m    103\u001b[0m \n\u001b[0;32m   (...)\u001b[0m\n\u001b[1;32m    152\u001b[0m \u001b[38;5;124;03m    -55 -47 -24 -10 190 981 1 1 8 14 1 1\u001b[39;00m\n\u001b[1;32m    153\u001b[0m \u001b[38;5;124;03m    \"\"\"\u001b[39;00m\n",
      "File \u001b[0;32m~/miniconda3/lib/python3.11/site-packages/pygmt/clib/loading.py:62\u001b[0m, in \u001b[0;36mload_libgmt\u001b[0;34m(lib_fullnames)\u001b[0m\n\u001b[1;32m     59\u001b[0m         failing_libs\u001b[38;5;241m.\u001b[39mappend(libname)\n\u001b[1;32m     61\u001b[0m \u001b[38;5;28;01mif\u001b[39;00m error:\n\u001b[0;32m---> 62\u001b[0m     \u001b[38;5;28;01mraise\u001b[39;00m GMTCLibNotFoundError(\u001b[38;5;124m\"\u001b[39m\u001b[38;5;130;01m\\n\u001b[39;00m\u001b[38;5;124m\"\u001b[39m\u001b[38;5;241m.\u001b[39mjoin(error_msg))\n\u001b[1;32m     64\u001b[0m \u001b[38;5;28;01mreturn\u001b[39;00m libgmt\n",
      "\u001b[0;31mGMTCLibNotFoundError\u001b[0m: Error loading GMT shared library at 'libgmt.dylib'.\ndlopen(libgmt.dylib, 0x0006): Library not loaded: '@rpath/libtiff.5.dylib'\n  Referenced from: '/Users/m1hawks/miniconda3/lib/libpoppler.126.0.0.dylib'\n  Reason: tried: '/Users/m1hawks/miniconda3/lib/libtiff.5.dylib' (no such file), '/Users/m1hawks/miniconda3/lib/libtiff.5.dylib' (no such file), '/Users/m1hawks/miniconda3/lib/libtiff.5.dylib' (no such file), '/Users/m1hawks/miniconda3/lib/libtiff.5.dylib' (no such file), '/Users/m1hawks/miniconda3/lib/python3.11/lib-dynload/../../libtiff.5.dylib' (no such file), '/Users/m1hawks/miniconda3/bin/../lib/libtiff.5.dylib' (no such file), '/usr/local/lib/libtiff.5.dylib' (no such file), '/usr/lib/libtiff.5.dylib' (no such file)"
     ]
    }
   ],
   "source": [
    "from pathlib import Path\n",
    "import pandas as pd\n",
    "import numpy as np\n",
    "from SeamountHelp import readCroppedxyz\n",
    "from scipy.signal import convolve2d, convolve, choose_conv_method\n",
    "import pygmt\n",
    "data = Path('data')"
   ]
  },
  {
   "cell_type": "code",
   "execution_count": null,
   "metadata": {},
   "outputs": [],
   "source": [
    "cropped_bounds = (-4.525, -2.38, -95.85833, -93.00833)\n",
    "with open(data / 'vgg_swot.xyz') as f:\n",
    "    vgg_swot = readCroppedxyz(f, cropped_bounds)"
   ]
  },
  {
   "cell_type": "code",
   "execution_count": null,
   "metadata": {},
   "outputs": [],
   "source": [
    "mask_path = Path('data') / 'vggmask' / 'vgg_8km' / 'VGG_100_1000.xyz'\n",
    "mask = pd.read_csv(mask_path, sep='\\t').to_numpy()"
   ]
  },
  {
   "cell_type": "code",
   "execution_count": null,
   "metadata": {},
   "outputs": [],
   "source": [
    "mask[:10]"
   ]
  },
  {
   "cell_type": "code",
   "execution_count": null,
   "metadata": {},
   "outputs": [],
   "source": [
    "d2_tested = convolve2d(vgg_swot, mask, mode='same', boundary='pad')\n"
   ]
  },
  {
   "cell_type": "code",
   "execution_count": null,
   "metadata": {},
   "outputs": [],
   "source": [
    "d2_tested[:10]"
   ]
  },
  {
   "cell_type": "code",
   "execution_count": null,
   "metadata": {},
   "outputs": [],
   "source": [
    "# Define the output grdfile path\n",
    "grdfile_path = \"tested_d2.grd\"\n",
    "\n",
    "# Convert d2_tested to a grdfile\n",
    "pygmt.xyz2grd(\n",
    "    data=d2_tested,\n",
    "    outgrid=grdfile_path,\n",
    "    region=cropped_bounds,\n",
    "    spacing=\"1/1\",\n",
    "    registration=\"pixel\",\n",
    ")"
   ]
  },
  {
   "cell_type": "code",
   "execution_count": null,
   "metadata": {},
   "outputs": [],
   "source": []
  }
 ],
 "metadata": {
  "kernelspec": {
   "display_name": "base",
   "language": "python",
   "name": "python3"
  },
  "language_info": {
   "codemirror_mode": {
    "name": "ipython",
    "version": 3
   },
   "file_extension": ".py",
   "mimetype": "text/x-python",
   "name": "python",
   "nbconvert_exporter": "python",
   "pygments_lexer": "ipython3",
   "version": "3.11.0"
  }
 },
 "nbformat": 4,
 "nbformat_minor": 2
}
