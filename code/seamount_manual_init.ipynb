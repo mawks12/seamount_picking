{
 "cells": [
  {
   "cell_type": "code",
   "execution_count": 16,
   "metadata": {},
   "outputs": [],
   "source": [
    "from pathlib import Path\n",
    "import re\n",
    "import pandas as pd\n",
    "import numpy as np\n",
    "from smount_predictors import SeamountScorer, SeamountTransformer, SeamountHelp, SeamountCVSplitter\n",
    "from sklearn.pipeline import Pipeline\n",
    "from sklearn.svm import LinearSVC, SVC\n",
    "import plotly.express as px\n",
    "from sklearn.model_selection import GridSearchCV"
   ]
  },
  {
   "cell_type": "code",
   "execution_count": 17,
   "metadata": {},
   "outputs": [],
   "source": [
    "seamount_centers = SeamountHelp.read_seamount_centers(Path('data/seamount_training_zone.kml'))[['lat', 'lon']].to_numpy()"
   ]
  },
  {
   "cell_type": "code",
   "execution_count": 18,
   "metadata": {},
   "outputs": [
    {
     "data": {
      "text/plain": [
       "score    0.44375\n",
       "Name: (100000.0, 0.6), dtype: float64"
      ]
     },
     "execution_count": 18,
     "metadata": {},
     "output_type": "execute_result"
    }
   ],
   "source": [
    "results = Path('out') / 'crossval.txt'\n",
    "with results.open('r') as f:\n",
    "    text = f.read()\n",
    "floats = re.findall(r'=([\\d\\.]+)', text)\n",
    "data = {'C': [], 'sigma': [] , 'score': []}\n",
    "for i in range(0, len(floats) - 1, 3):\n",
    "    data['C'].append(float(floats[i]))\n",
    "    data['sigma'].append(float(floats[i+1]))\n",
    "    data['score'].append(float(floats[i+2]))\n",
    "df = pd.DataFrame(data)\n",
    "df.groupby(['C', 'sigma']).mean().sort_values('score', ascending=False)"
   ]
  },
  {
   "cell_type": "code",
   "execution_count": 19,
   "metadata": {},
   "outputs": [],
   "source": [
    "pipe = Pipeline([\n",
    "    ('trans', SeamountTransformer(sigma=0.6)),\n",
    "    ('predictor', SVC(C=1000000, kernel='linear', class_weight={0: 1, 1: 10}))\n",
    "])"
   ]
  },
  {
   "cell_type": "code",
   "execution_count": 20,
   "metadata": {},
   "outputs": [],
   "source": [
    "points = SeamountHelp.readKMLbounds(Path('data/seamount_training_zone.kml'))\n",
    "data = SeamountHelp.readAndFilterGRD(Path('data') / 'swot_seamounts_labled.nc')\n",
    "X = data.to_dataframe().reset_index()"
   ]
  },
  {
   "cell_type": "code",
   "execution_count": 21,
   "metadata": {},
   "outputs": [],
   "source": [
    "splitter = SeamountCVSplitter(5)\n",
    "X_train, X_test = next(splitter.split(X[['lat', 'lon', 'z']], X['Labels']))\n",
    "X_train = X.iloc[X_train]\n",
    "y_train = X_train['Labels'].to_numpy()\n",
    "X_train = X_train[['lat', 'lon', 'z']].to_numpy()\n",
    "X_test = X.iloc[X_test]\n",
    "y_test = X_test['Labels'].to_numpy()\n",
    "X_test = X_test[['lat', 'lon', 'z']].to_numpy()"
   ]
  },
  {
   "cell_type": "code",
   "execution_count": 22,
   "metadata": {},
   "outputs": [],
   "source": [
    "pipe.fit(X_train, y_train)"
   ]
  }
 ],
 "metadata": {
  "kernelspec": {
   "display_name": "base",
   "language": "python",
   "name": "python3"
  },
  "language_info": {
   "codemirror_mode": {
    "name": "ipython",
    "version": 3
   },
   "file_extension": ".py",
   "mimetype": "text/x-python",
   "name": "python",
   "nbconvert_exporter": "python",
   "pygments_lexer": "ipython3",
   "version": "3.10.14"
  }
 },
 "nbformat": 4,
 "nbformat_minor": 2
}
